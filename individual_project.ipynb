{
 "cells": [
  {
   "cell_type": "markdown",
   "metadata": {
    "hideCode": false,
    "hidePrompt": false,
    "hide_input": true,
    "slideshow": {
     "slide_type": "slide"
    }
   },
   "source": [
    "# Individual Project - Open data source \n",
    "Théau BRUNO "
   ]
  },
  {
   "cell_type": "markdown",
   "metadata": {
    "hideCode": false,
    "hidePrompt": false,
    "slideshow": {
     "slide_type": "slide"
    }
   },
   "source": [
    "# HOUSING PRICE\n",
    "\n",
    "Region: Western Europe\n",
    "\n",
    "    - Belgium\n",
    "    - France \n",
    "    - Germany \n",
    "    - Netherlands \n",
    "    - Switzerland\n",
    "\n",
    "Objective: Build a linear regression model to explain the relationship between the housing price and the factors."
   ]
  },
  {
   "cell_type": "code",
   "execution_count": 1,
   "metadata": {
    "hideCode": false,
    "hidePrompt": false,
    "slideshow": {
     "slide_type": "skip"
    }
   },
   "outputs": [],
   "source": [
    "import numpy as np              \n",
    "import pandas as pd              \n",
    "import matplotlib.pyplot as plt \n",
    "import math  "
   ]
  },
  {
   "cell_type": "code",
   "execution_count": 2,
   "metadata": {
    "hideCode": false,
    "hidePrompt": false,
    "slideshow": {
     "slide_type": "skip"
    }
   },
   "outputs": [
    {
     "data": {
      "text/html": [
       "<div>\n",
       "<style scoped>\n",
       "    .dataframe tbody tr th:only-of-type {\n",
       "        vertical-align: middle;\n",
       "    }\n",
       "\n",
       "    .dataframe tbody tr th {\n",
       "        vertical-align: top;\n",
       "    }\n",
       "\n",
       "    .dataframe thead th {\n",
       "        text-align: right;\n",
       "    }\n",
       "</style>\n",
       "<table border=\"1\" class=\"dataframe\">\n",
       "  <thead>\n",
       "    <tr style=\"text-align: right;\">\n",
       "      <th></th>\n",
       "      <th>Country</th>\n",
       "      <th>Time</th>\n",
       "      <th>Unemployment rate</th>\n",
       "    </tr>\n",
       "  </thead>\n",
       "  <tbody>\n",
       "    <tr>\n",
       "      <th>0</th>\n",
       "      <td>Belgium</td>\n",
       "      <td>2005</td>\n",
       "      <td>8.433333</td>\n",
       "    </tr>\n",
       "    <tr>\n",
       "      <th>1</th>\n",
       "      <td>Belgium</td>\n",
       "      <td>2006</td>\n",
       "      <td>8.250000</td>\n",
       "    </tr>\n",
       "    <tr>\n",
       "      <th>2</th>\n",
       "      <td>Belgium</td>\n",
       "      <td>2007</td>\n",
       "      <td>7.483333</td>\n",
       "    </tr>\n",
       "    <tr>\n",
       "      <th>3</th>\n",
       "      <td>Belgium</td>\n",
       "      <td>2008</td>\n",
       "      <td>6.975000</td>\n",
       "    </tr>\n",
       "    <tr>\n",
       "      <th>4</th>\n",
       "      <td>Belgium</td>\n",
       "      <td>2009</td>\n",
       "      <td>7.891667</td>\n",
       "    </tr>\n",
       "  </tbody>\n",
       "</table>\n",
       "</div>"
      ],
      "text/plain": [
       "   Country  Time  Unemployment rate\n",
       "0  Belgium  2005           8.433333\n",
       "1  Belgium  2006           8.250000\n",
       "2  Belgium  2007           7.483333\n",
       "3  Belgium  2008           6.975000\n",
       "4  Belgium  2009           7.891667"
      ]
     },
     "execution_count": 2,
     "metadata": {},
     "output_type": "execute_result"
    }
   ],
   "source": [
    "# Import the csv file coming from the OECD data\n",
    "unemployment = pd.read_csv('./data/unemployment.csv')\n",
    "# Delete all the columns we don't need\n",
    "unemployment = unemployment.drop(['Flags', 'Flag Codes','Unit', 'Reference Period Code', 'Reference Period','MEASURE','SUBJECT', 'FREQUENCY', 'Frequency', 'Measure', 'LOCATION', 'PowerCode', 'PowerCode Code', 'Unit Code', 'TIME' ], axis = 1)\n",
    "# Converting the Time column to intger to permit the good merge \n",
    "unemployment = unemployment.astype({\"Time\": 'int64' })\n",
    "# Change the column name to have the same name on each table\n",
    "unemployment = unemployment.rename(columns={'Subject':'Variable'})\n",
    "# Change column name \n",
    "unemployment = unemployment.rename(columns={'Value':'Unemployment rate'})\n",
    "# Remove the variable description \n",
    "unemployment = unemployment.drop(['Variable'], axis = 1)\n",
    "unemployment.head()"
   ]
  },
  {
   "cell_type": "code",
   "execution_count": 3,
   "metadata": {
    "hideCode": false,
    "hidePrompt": false,
    "scrolled": true,
    "slideshow": {
     "slide_type": "skip"
    }
   },
   "outputs": [
    {
     "data": {
      "text/html": [
       "<div>\n",
       "<style scoped>\n",
       "    .dataframe tbody tr th:only-of-type {\n",
       "        vertical-align: middle;\n",
       "    }\n",
       "\n",
       "    .dataframe tbody tr th {\n",
       "        vertical-align: top;\n",
       "    }\n",
       "\n",
       "    .dataframe thead th {\n",
       "        text-align: right;\n",
       "    }\n",
       "</style>\n",
       "<table border=\"1\" class=\"dataframe\">\n",
       "  <thead>\n",
       "    <tr style=\"text-align: right;\">\n",
       "      <th></th>\n",
       "      <th>Country</th>\n",
       "      <th>Time</th>\n",
       "      <th>Nominal house price indices, s.a.</th>\n",
       "      <th>Price to income ratio</th>\n",
       "      <th>Price to rent ratio</th>\n",
       "      <th>Real house price indices, s.a.</th>\n",
       "      <th>Rent prices, s.a.</th>\n",
       "      <th>Standardised price-income ratio</th>\n",
       "      <th>Standardised price-rent ratio</th>\n",
       "    </tr>\n",
       "  </thead>\n",
       "  <tbody>\n",
       "    <tr>\n",
       "      <th>0</th>\n",
       "      <td>Belgium</td>\n",
       "      <td>2005</td>\n",
       "      <td>72.53625</td>\n",
       "      <td>87.898689</td>\n",
       "      <td>86.477540</td>\n",
       "      <td>85.966501</td>\n",
       "      <td>83.868974</td>\n",
       "      <td>115.664738</td>\n",
       "      <td>117.708131</td>\n",
       "    </tr>\n",
       "    <tr>\n",
       "      <th>1</th>\n",
       "      <td>Belgium</td>\n",
       "      <td>2006</td>\n",
       "      <td>79.61525</td>\n",
       "      <td>92.111319</td>\n",
       "      <td>91.723173</td>\n",
       "      <td>91.823655</td>\n",
       "      <td>86.793144</td>\n",
       "      <td>121.208082</td>\n",
       "      <td>124.848178</td>\n",
       "    </tr>\n",
       "    <tr>\n",
       "      <th>2</th>\n",
       "      <td>Belgium</td>\n",
       "      <td>2007</td>\n",
       "      <td>85.81875</td>\n",
       "      <td>95.058154</td>\n",
       "      <td>96.982385</td>\n",
       "      <td>96.400982</td>\n",
       "      <td>88.486539</td>\n",
       "      <td>125.085784</td>\n",
       "      <td>132.006707</td>\n",
       "    </tr>\n",
       "    <tr>\n",
       "      <th>3</th>\n",
       "      <td>Belgium</td>\n",
       "      <td>2008</td>\n",
       "      <td>89.60525</td>\n",
       "      <td>94.978549</td>\n",
       "      <td>99.309619</td>\n",
       "      <td>97.562672</td>\n",
       "      <td>90.229242</td>\n",
       "      <td>124.981032</td>\n",
       "      <td>135.174401</td>\n",
       "    </tr>\n",
       "    <tr>\n",
       "      <th>4</th>\n",
       "      <td>Belgium</td>\n",
       "      <td>2009</td>\n",
       "      <td>89.18300</td>\n",
       "      <td>95.147864</td>\n",
       "      <td>96.828823</td>\n",
       "      <td>97.904371</td>\n",
       "      <td>92.106929</td>\n",
       "      <td>125.203832</td>\n",
       "      <td>131.797688</td>\n",
       "    </tr>\n",
       "  </tbody>\n",
       "</table>\n",
       "</div>"
      ],
      "text/plain": [
       "   Country  Time  Nominal house price indices, s.a.  Price to income ratio  \\\n",
       "0  Belgium  2005                           72.53625              87.898689   \n",
       "1  Belgium  2006                           79.61525              92.111319   \n",
       "2  Belgium  2007                           85.81875              95.058154   \n",
       "3  Belgium  2008                           89.60525              94.978549   \n",
       "4  Belgium  2009                           89.18300              95.147864   \n",
       "\n",
       "   Price to rent ratio  Real house price indices, s.a.  Rent prices, s.a.  \\\n",
       "0            86.477540                       85.966501          83.868974   \n",
       "1            91.723173                       91.823655          86.793144   \n",
       "2            96.982385                       96.400982          88.486539   \n",
       "3            99.309619                       97.562672          90.229242   \n",
       "4            96.828823                       97.904371          92.106929   \n",
       "\n",
       "   Standardised price-income ratio  Standardised price-rent ratio  \n",
       "0                       115.664738                     117.708131  \n",
       "1                       121.208082                     124.848178  \n",
       "2                       125.085784                     132.006707  \n",
       "3                       124.981032                     135.174401  \n",
       "4                       125.203832                     131.797688  "
      ]
     },
     "execution_count": 3,
     "metadata": {},
     "output_type": "execute_result"
    }
   ],
   "source": [
    "# Import the csv file coming from the OECD data\n",
    "house = pd.read_csv('./data/house_pricing.csv')\n",
    "# Delete all the columns we don't need\n",
    "house = house.drop(['Flags', 'Flag Codes','Unit', 'Reference Period Code', 'Reference Period', 'PowerCode', 'PowerCode Code', 'Unit Code', 'TIME', 'IND', 'COU'], axis = 1)\n",
    "# Keep only the total time\n",
    "house = house[~house.Time.str.contains('Q')]\n",
    "# Converting the Time column to intger to permit the good merge\n",
    "house = house.astype({\"Time\": 'int64' })\n",
    "house = house.rename(columns={'Indicator':'Variable'})\n",
    "# Create a Pivot table, to have a column for each variable instead of a row\n",
    "house = house.pivot_table('Value', ['Country', 'Time'], 'Variable')\n",
    "# Convert the pivot table to a flat dataframe, easier to merge \n",
    "house = pd.DataFrame(house.to_records())\n",
    "# Remove missing value \n",
    "#house = house.dropna(0)\n",
    "house.head()"
   ]
  },
  {
   "cell_type": "code",
   "execution_count": 4,
   "metadata": {
    "slideshow": {
     "slide_type": "skip"
    }
   },
   "outputs": [],
   "source": [
    "#house['Variable'].unique()"
   ]
  },
  {
   "cell_type": "code",
   "execution_count": 5,
   "metadata": {
    "hideCode": false,
    "hidePrompt": false,
    "slideshow": {
     "slide_type": "skip"
    }
   },
   "outputs": [
    {
     "data": {
      "text/plain": [
       "array(['Belgium', 'Euro area (17 countries)', 'France', 'Germany',\n",
       "       'Netherlands', 'Switzerland'], dtype=object)"
      ]
     },
     "execution_count": 5,
     "metadata": {},
     "output_type": "execute_result"
    }
   ],
   "source": [
    "countries = house['Country'].unique()\n",
    "countries"
   ]
  },
  {
   "cell_type": "code",
   "execution_count": 6,
   "metadata": {
    "hideCode": false,
    "hideOutput": false,
    "hidePrompt": true,
    "slideshow": {
     "slide_type": "skip"
    }
   },
   "outputs": [
    {
     "data": {
      "text/html": [
       "<div>\n",
       "<style scoped>\n",
       "    .dataframe tbody tr th:only-of-type {\n",
       "        vertical-align: middle;\n",
       "    }\n",
       "\n",
       "    .dataframe tbody tr th {\n",
       "        vertical-align: top;\n",
       "    }\n",
       "\n",
       "    .dataframe thead th {\n",
       "        text-align: right;\n",
       "    }\n",
       "</style>\n",
       "<table border=\"1\" class=\"dataframe\">\n",
       "  <thead>\n",
       "    <tr style=\"text-align: right;\">\n",
       "      <th></th>\n",
       "      <th>Country</th>\n",
       "      <th>Time</th>\n",
       "      <th>Nominal house price indices, s.a.</th>\n",
       "      <th>Price to income ratio</th>\n",
       "      <th>Price to rent ratio</th>\n",
       "      <th>Real house price indices, s.a.</th>\n",
       "      <th>Rent prices, s.a.</th>\n",
       "      <th>Standardised price-income ratio</th>\n",
       "      <th>Standardised price-rent ratio</th>\n",
       "    </tr>\n",
       "  </thead>\n",
       "  <tbody>\n",
       "    <tr>\n",
       "      <th>0</th>\n",
       "      <td>Belgium</td>\n",
       "      <td>2005</td>\n",
       "      <td>72.53625</td>\n",
       "      <td>87.898689</td>\n",
       "      <td>86.477540</td>\n",
       "      <td>85.966501</td>\n",
       "      <td>83.868974</td>\n",
       "      <td>115.664738</td>\n",
       "      <td>117.708131</td>\n",
       "    </tr>\n",
       "    <tr>\n",
       "      <th>1</th>\n",
       "      <td>Belgium</td>\n",
       "      <td>2006</td>\n",
       "      <td>79.61525</td>\n",
       "      <td>92.111319</td>\n",
       "      <td>91.723173</td>\n",
       "      <td>91.823655</td>\n",
       "      <td>86.793144</td>\n",
       "      <td>121.208082</td>\n",
       "      <td>124.848178</td>\n",
       "    </tr>\n",
       "    <tr>\n",
       "      <th>2</th>\n",
       "      <td>Belgium</td>\n",
       "      <td>2007</td>\n",
       "      <td>85.81875</td>\n",
       "      <td>95.058154</td>\n",
       "      <td>96.982385</td>\n",
       "      <td>96.400982</td>\n",
       "      <td>88.486539</td>\n",
       "      <td>125.085784</td>\n",
       "      <td>132.006707</td>\n",
       "    </tr>\n",
       "    <tr>\n",
       "      <th>3</th>\n",
       "      <td>Belgium</td>\n",
       "      <td>2008</td>\n",
       "      <td>89.60525</td>\n",
       "      <td>94.978549</td>\n",
       "      <td>99.309619</td>\n",
       "      <td>97.562672</td>\n",
       "      <td>90.229242</td>\n",
       "      <td>124.981032</td>\n",
       "      <td>135.174401</td>\n",
       "    </tr>\n",
       "    <tr>\n",
       "      <th>4</th>\n",
       "      <td>Belgium</td>\n",
       "      <td>2009</td>\n",
       "      <td>89.18300</td>\n",
       "      <td>95.147864</td>\n",
       "      <td>96.828823</td>\n",
       "      <td>97.904371</td>\n",
       "      <td>92.106929</td>\n",
       "      <td>125.203832</td>\n",
       "      <td>131.797688</td>\n",
       "    </tr>\n",
       "  </tbody>\n",
       "</table>\n",
       "</div>"
      ],
      "text/plain": [
       "   Country  Time  Nominal house price indices, s.a.  Price to income ratio  \\\n",
       "0  Belgium  2005                           72.53625              87.898689   \n",
       "1  Belgium  2006                           79.61525              92.111319   \n",
       "2  Belgium  2007                           85.81875              95.058154   \n",
       "3  Belgium  2008                           89.60525              94.978549   \n",
       "4  Belgium  2009                           89.18300              95.147864   \n",
       "\n",
       "   Price to rent ratio  Real house price indices, s.a.  Rent prices, s.a.  \\\n",
       "0            86.477540                       85.966501          83.868974   \n",
       "1            91.723173                       91.823655          86.793144   \n",
       "2            96.982385                       96.400982          88.486539   \n",
       "3            99.309619                       97.562672          90.229242   \n",
       "4            96.828823                       97.904371          92.106929   \n",
       "\n",
       "   Standardised price-income ratio  Standardised price-rent ratio  \n",
       "0                       115.664738                     117.708131  \n",
       "1                       121.208082                     124.848178  \n",
       "2                       125.085784                     132.006707  \n",
       "3                       124.981032                     135.174401  \n",
       "4                       125.203832                     131.797688  "
      ]
     },
     "execution_count": 6,
     "metadata": {},
     "output_type": "execute_result"
    }
   ],
   "source": [
    "house.head()"
   ]
  },
  {
   "cell_type": "code",
   "execution_count": 7,
   "metadata": {
    "hideCode": false,
    "hidePrompt": false,
    "scrolled": false,
    "slideshow": {
     "slide_type": "skip"
    }
   },
   "outputs": [],
   "source": [
    "house_france = house[house.Country == 'France']"
   ]
  },
  {
   "cell_type": "code",
   "execution_count": 8,
   "metadata": {
    "hideCode": false,
    "hidePrompt": false,
    "scrolled": false,
    "slideshow": {
     "slide_type": "skip"
    }
   },
   "outputs": [
    {
     "data": {
      "image/png": "[encoded data removed]",
      "text/plain": [
       "<Figure size 720x432 with 1 Axes>"
      ]
     },
     "metadata": {
      "needs_background": "light"
     },
     "output_type": "display_data"
    }
   ],
   "source": [
    "# Plot of the houses indices with sns using a loop\n",
    "\n",
    "fig, ax = plt.subplots(figsize=(10,6))\n",
    "import seaborn as sns\n",
    "\n",
    "Variables = ['Nominal house price indices, s.a.', 'Price to income ratio', 'Price to rent ratio', 'Real house price indices, s.a.','Rent prices, s.a.','Standardised price-income ratio','Standardised price-rent ratio']\n",
    "for i in Variables: \n",
    "    sns.lineplot(x = house_france['Time'], y= house_france[str(i)], label = i)\n",
    "    plt.legend(bbox_to_anchor=(1.05, 1), loc=2, borderaxespad=0.)\n",
    "    plt.title('Houses Indices')\n",
    "    plt.xlabel(\"Time\")\n",
    "    "
   ]
  },
  {
   "cell_type": "markdown",
   "metadata": {
    "slideshow": {
     "slide_type": "slide"
    }
   },
   "source": [
    "## Example of House Indices for a Country"
   ]
  },
  {
   "cell_type": "code",
   "execution_count": 9,
   "metadata": {
    "hideCode": false,
    "hidePrompt": true,
    "hide_input": true,
    "scrolled": false,
    "slideshow": {
     "slide_type": "fragment"
    }
   },
   "outputs": [
    {
     "data": {
      "image/png": "[encoded data removed]",
      "text/plain": [
       "<Figure size 792x576 with 1 Axes>"
      ]
     },
     "metadata": {
      "needs_background": "light"
     },
     "output_type": "display_data"
    }
   ],
   "source": [
    "fig, ax = plt.subplots(figsize=(11,8))\n",
    "for i in Variables: \n",
    "    plt.plot(house_france['Time'], house_france[str(i)], label =i )\n",
    "    plt.legend(bbox_to_anchor=(1.05, 1), loc='upper left')\n",
    "    plt.title('France Houses Indices', fontsize=18)\n",
    "    plt.xlabel(\"Time\")\n",
    "    "
   ]
  },
  {
   "cell_type": "code",
   "execution_count": 10,
   "metadata": {
    "hideCode": false,
    "hidePrompt": false,
    "slideshow": {
     "slide_type": "skip"
    }
   },
   "outputs": [],
   "source": [
    "house_France = house[house.Country == 'France']\n",
    "house_Belgium = house[house.Country == 'Belgium']\n",
    "house_Germany = house[house.Country == 'Germany']\n",
    "house_Netherlands = house[house.Country == 'Netherlands']\n",
    "house_Switzerland = house[house.Country == 'Switzerland']"
   ]
  },
  {
   "cell_type": "code",
   "execution_count": 11,
   "metadata": {
    "hideCode": false,
    "hidePrompt": false,
    "slideshow": {
     "slide_type": "skip"
    }
   },
   "outputs": [
    {
     "name": "stdout",
     "output_type": "stream",
     "text": [
      "test_France\n",
      "test_Belgium\n",
      "test_Germany\n",
      "test_Netherlands\n",
      "test_Switzerland\n"
     ]
    }
   ],
   "source": [
    "LABELS = [\"France\", \"Belgium\", \"Germany\", \"Netherlands\", \"Switzerland\"]\n",
    "\n",
    "for l in LABELS: \n",
    "   print('test_'+str(l))"
   ]
  },
  {
   "cell_type": "code",
   "execution_count": 12,
   "metadata": {
    "hideCode": false,
    "hidePrompt": false,
    "slideshow": {
     "slide_type": "skip"
    }
   },
   "outputs": [
    {
     "name": "stderr",
     "output_type": "stream",
     "text": [
      "WARNING:bokeh.core.validation.check:W-1000 (MISSING_RENDERERS): Plot has no renderers: Figure(id='1002', ...)\n",
      "WARNING:bokeh.embed.util:\n",
      "You are generating standalone HTML/JS output, but trying to use real Python\n",
      "callbacks (i.e. with on_change or on_event). This combination cannot work.\n",
      "\n",
      "Only JavaScript callbacks may be used with standalone output. For more\n",
      "information on JavaScript callbacks with Bokeh, see:\n",
      "\n",
      "    https://docs.bokeh.org/en/latest/docs/user_guide/interaction/callbacks.html\n",
      "\n",
      "Alternatively, to use real Python callbacks, a Bokeh server application may\n",
      "be used. For more information on building and running Bokeh applications, see:\n",
      "\n",
      "    https://docs.bokeh.org/en/latest/docs/user_guide/server.html\n",
      "\n"
     ]
    }
   ],
   "source": [
    "#Unsucessfull tentative to create an interactive bokeh  \n",
    "\n",
    "from bokeh.io import curdoc\n",
    "from bokeh.layouts import column\n",
    "from bokeh.models import ColumnDataSource, Select \n",
    "from bokeh.plotting import figure\n",
    "\n",
    "from bokeh.plotting import figure, output_file, show\n",
    "from bokeh.layouts import column, row\n",
    "\n",
    "\n",
    "from bokeh.io import show\n",
    "from bokeh.models import CustomJS, RadioGroup\n",
    "\n",
    "LABELS = [\"France\", \"Belgium\", \"Germany\", \"Netherlands\", \"Switzerland\"]\n",
    "\n",
    "#radio_group = RadioGroup(labels=LABELS, active=0)\n",
    "#radio_group.js_on_click(CustomJS(code=\"\"\"\n",
    "#    console.log('radio_group: active=' + this.active, this.toString())\n",
    "#\"\"\"))\n",
    "\n",
    "def test(x):\n",
    "    if x == 'France':\n",
    "        p.line(x, house_France['Real house price indices, s.a.'], legend_label='Real house price indices, s.a.', line_width=2, line_color = 'green')\n",
    "        p.line(x, house_France['Rent prices, s.a.'], legend_label='Rent prices, s.a.', line_width=2, line_color = 'blue')\n",
    "    elif x == Belgium:\n",
    "        p.line(x, house_France['Real house price indices, s.a.'], legend_label='Real house price indices, s.a.', line_width=2, line_color = 'green')\n",
    "        p.line(x, house_France['Rent prices, s.a.'], legend_label='Rent prices, s.a.', line_width=2, line_color = 'blue')\n",
    "    elif x == Germany:\n",
    "        p.line(x, house_Germany['Real house price indices, s.a.'], legend_label='Real house price indices, s.a.', line_width=2, line_color = 'green')\n",
    "        p.line(x, house_Germany['Rent prices, s.a.'], legend_label='Rent prices, s.a.', line_width=2, line_color = 'blue')    \n",
    "        \n",
    "        \n",
    "        \n",
    "#y = house_france['Real house price indices, s.a.']\n",
    "\n",
    "radio_group = RadioGroup(labels=LABELS, active=0)\n",
    "radio_group.on_click(test)\n",
    "\n",
    "\n",
    "x = house_france['Time']\n",
    "#y = house_france[ 'Real house price indices, s.a.']\n",
    "#house_france['Rent prices, s.a.']\n",
    "\n",
    "\n",
    "# create a new plot with a title and axis labels\n",
    "#p = figure(title=\"Houses Indices\", x_axis_label='Time', y_axis_label='Indices', plot_width=500, plot_height=400)\n",
    "p = figure(x_axis_label='Time', y_axis_label='Indices', plot_width=500, plot_height=400)\n",
    "\n",
    "# add a line renderer with legend and line thickness\n",
    "#p.line(x, y, legend_label='Real house price indices, s.a.', line_width=2, line_color = 'green')\n",
    "#p.line(x, house_france['Rent prices, s.a.'], legend_label='Rent prices, s.a.', line_width=2, line_color = 'blue')\n",
    "\n",
    "\n",
    "# show the results\n",
    "show(row(column(radio_group, width=100), p))\n",
    "#show(p)\n",
    "\n"
   ]
  },
  {
   "cell_type": "code",
   "execution_count": 13,
   "metadata": {
    "hideCode": false,
    "hidePrompt": false,
    "scrolled": false,
    "slideshow": {
     "slide_type": "skip"
    }
   },
   "outputs": [],
   "source": [
    "#Method to plot using pivot table\n",
    "#house_france.pivot_table('Value', index='Time', columns='Indicator').plot()"
   ]
  },
  {
   "cell_type": "code",
   "execution_count": 14,
   "metadata": {
    "hideCode": false,
    "hidePrompt": false,
    "slideshow": {
     "slide_type": "skip"
    }
   },
   "outputs": [],
   "source": [
    "# Cleaning of the column we don't need \n",
    "# Focus on Real house price indices, s.a. and Rent prices, s.a.\n",
    "house = house.drop(['Nominal house price indices, s.a.','Price to income ratio', 'Price to rent ratio','Standardised price-income ratio','Standardised price-rent ratio'], axis =1)"
   ]
  },
  {
   "cell_type": "code",
   "execution_count": 15,
   "metadata": {
    "hideCode": false,
    "hidePrompt": false,
    "slideshow": {
     "slide_type": "skip"
    }
   },
   "outputs": [
    {
     "data": {
      "text/html": [
       "<div>\n",
       "<style scoped>\n",
       "    .dataframe tbody tr th:only-of-type {\n",
       "        vertical-align: middle;\n",
       "    }\n",
       "\n",
       "    .dataframe tbody tr th {\n",
       "        vertical-align: top;\n",
       "    }\n",
       "\n",
       "    .dataframe thead th {\n",
       "        text-align: right;\n",
       "    }\n",
       "</style>\n",
       "<table border=\"1\" class=\"dataframe\">\n",
       "  <thead>\n",
       "    <tr style=\"text-align: right;\">\n",
       "      <th></th>\n",
       "      <th>Country</th>\n",
       "      <th>Time</th>\n",
       "      <th>Real house price indices, s.a.</th>\n",
       "      <th>Rent prices, s.a.</th>\n",
       "    </tr>\n",
       "  </thead>\n",
       "  <tbody>\n",
       "    <tr>\n",
       "      <th>0</th>\n",
       "      <td>Belgium</td>\n",
       "      <td>2005</td>\n",
       "      <td>85.966501</td>\n",
       "      <td>83.868974</td>\n",
       "    </tr>\n",
       "    <tr>\n",
       "      <th>1</th>\n",
       "      <td>Belgium</td>\n",
       "      <td>2006</td>\n",
       "      <td>91.823655</td>\n",
       "      <td>86.793144</td>\n",
       "    </tr>\n",
       "    <tr>\n",
       "      <th>2</th>\n",
       "      <td>Belgium</td>\n",
       "      <td>2007</td>\n",
       "      <td>96.400982</td>\n",
       "      <td>88.486539</td>\n",
       "    </tr>\n",
       "    <tr>\n",
       "      <th>3</th>\n",
       "      <td>Belgium</td>\n",
       "      <td>2008</td>\n",
       "      <td>97.562672</td>\n",
       "      <td>90.229242</td>\n",
       "    </tr>\n",
       "    <tr>\n",
       "      <th>4</th>\n",
       "      <td>Belgium</td>\n",
       "      <td>2009</td>\n",
       "      <td>97.904371</td>\n",
       "      <td>92.106929</td>\n",
       "    </tr>\n",
       "  </tbody>\n",
       "</table>\n",
       "</div>"
      ],
      "text/plain": [
       "   Country  Time  Real house price indices, s.a.  Rent prices, s.a.\n",
       "0  Belgium  2005                       85.966501          83.868974\n",
       "1  Belgium  2006                       91.823655          86.793144\n",
       "2  Belgium  2007                       96.400982          88.486539\n",
       "3  Belgium  2008                       97.562672          90.229242\n",
       "4  Belgium  2009                       97.904371          92.106929"
      ]
     },
     "execution_count": 15,
     "metadata": {},
     "output_type": "execute_result"
    }
   ],
   "source": [
    "house.head()"
   ]
  },
  {
   "cell_type": "markdown",
   "metadata": {
    "slideshow": {
     "slide_type": "slide"
    }
   },
   "source": [
    "## Real house price indice"
   ]
  },
  {
   "cell_type": "code",
   "execution_count": 16,
   "metadata": {
    "hideCode": false,
    "hidePrompt": true,
    "hide_input": true,
    "slideshow": {
     "slide_type": "fragment"
    }
   },
   "outputs": [
    {
     "data": {
      "image/png": "[encoded data removed]",
      "text/plain": [
       "<Figure size 792x576 with 1 Axes>"
      ]
     },
     "metadata": {
      "needs_background": "light"
     },
     "output_type": "display_data"
    }
   ],
   "source": [
    "house.pivot_table('Real house price indices, s.a.', index='Time', columns='Country').plot(title='Real house price indices', figsize=(11, 8));"
   ]
  },
  {
   "cell_type": "markdown",
   "metadata": {
    "hideCode": true,
    "hidePrompt": true,
    "slideshow": {
     "slide_type": "slide"
    }
   },
   "source": [
    "## Rent Price plot "
   ]
  },
  {
   "cell_type": "code",
   "execution_count": 17,
   "metadata": {
    "hideCode": false,
    "hidePrompt": true,
    "hide_input": true,
    "slideshow": {
     "slide_type": "fragment"
    }
   },
   "outputs": [
    {
     "data": {
      "image/png": "[encoded data removed]",
      "text/plain": [
       "<Figure size 792x576 with 1 Axes>"
      ]
     },
     "metadata": {
      "needs_background": "light"
     },
     "output_type": "display_data"
    }
   ],
   "source": [
    "# house_rent_price = house[house.Indicator == 'Rent prices, s.a.']\n",
    "house.pivot_table('Rent prices, s.a.', index='Time', columns='Country').plot(title='Rent prices', figsize=(11, 8));"
   ]
  },
  {
   "cell_type": "code",
   "execution_count": 18,
   "metadata": {
    "hideCode": false,
    "hidePrompt": false,
    "scrolled": true,
    "slideshow": {
     "slide_type": "skip"
    }
   },
   "outputs": [
    {
     "data": {
      "text/plain": [
       "array([2005, 2006, 2007, 2008, 2009, 2010, 2011, 2012, 2013, 2014, 2015,\n",
       "       2016, 2017, 2018])"
      ]
     },
     "execution_count": 18,
     "metadata": {},
     "output_type": "execute_result"
    }
   ],
   "source": [
    "demography = pd.read_csv('./data/demography1.csv')\n",
    "demography = demography.drop(['Flags', 'Flag Codes', 'TIME', 'LOCATION', 'SEX', 'AGE'], axis = 1)\n",
    "demography = demography.drop(['Sex', 'Age'], axis = 1)\n",
    "demography = demography.rename(columns={\"Value\": \"Demography\"})\n",
    "demography.Time.unique()"
   ]
  },
  {
   "cell_type": "code",
   "execution_count": 19,
   "metadata": {
    "hideCode": false,
    "hidePrompt": false,
    "slideshow": {
     "slide_type": "skip"
    }
   },
   "outputs": [
    {
     "data": {
      "text/plain": [
       "<AxesSubplot:xlabel='Time'>"
      ]
     },
     "execution_count": 19,
     "metadata": {},
     "output_type": "execute_result"
    },
    {
     "data": {
      "image/png": "[encoded data removed]",
      "text/plain": [
       "<Figure size 432x288 with 1 Axes>"
      ]
     },
     "metadata": {
      "needs_background": "light"
     },
     "output_type": "display_data"
    }
   ],
   "source": [
    "demography.pivot_table('Demography', index='Time', columns='Country').plot()"
   ]
  },
  {
   "cell_type": "code",
   "execution_count": 20,
   "metadata": {
    "hideCode": false,
    "hidePrompt": false,
    "scrolled": false,
    "slideshow": {
     "slide_type": "skip"
    }
   },
   "outputs": [],
   "source": [
    "house_price_index = pd.read_csv('./data/house_price_index.csv')\n",
    "house_price_index = house_price_index.drop(['Flags', 'Flag Codes', 'TIME', 'Frequency', 'FREQ', 'MEASURE', 'Measure', 'Dwellings', 'DWELLINGS', 'Vintage', 'VINTAGE', 'VAR', 'TL', 'Territory Level and Typology', 'REG_ID'] , axis = 1)\n",
    "#house_price_index = house_price_index[~house_price_index.Country.str.contains('European UNion')]\n",
    "#house_price_index.tail(15)"
   ]
  },
  {
   "cell_type": "code",
   "execution_count": 21,
   "metadata": {
    "hideCode": false,
    "hidePrompt": false,
    "slideshow": {
     "slide_type": "skip"
    }
   },
   "outputs": [
    {
     "data": {
      "text/plain": [
       "<AxesSubplot:xlabel='Time'>"
      ]
     },
     "execution_count": 21,
     "metadata": {},
     "output_type": "execute_result"
    },
    {
     "data": {
      "image/png": "[encoded data removed]",
      "text/plain": [
       "<Figure size 432x288 with 1 Axes>"
      ]
     },
     "metadata": {
      "needs_background": "light"
     },
     "output_type": "display_data"
    }
   ],
   "source": [
    "house_price_index.pivot_table('Value', index='Time', columns='Region').plot()\n",
    "\n",
    "# Problem with the year 2005, we won't use this data "
   ]
  },
  {
   "cell_type": "code",
   "execution_count": 22,
   "metadata": {
    "hideCode": false,
    "hidePrompt": false,
    "scrolled": false,
    "slideshow": {
     "slide_type": "skip"
    }
   },
   "outputs": [
    {
     "name": "stderr",
     "output_type": "stream",
     "text": [
      "/Users/theaubruno/opt/anaconda3/lib/python3.8/site-packages/pandas/core/strings.py:2001: UserWarning: This pattern has match groups. To actually get the groups, use str.extract.\n",
      "  return func(self, *args, **kwargs)\n"
     ]
    },
    {
     "data": {
      "text/plain": [
       "array(['Belgium', 'Euro area (17 countries)', 'France', 'Germany',\n",
       "       'Netherlands', 'Switzerland'], dtype=object)"
      ]
     },
     "execution_count": 22,
     "metadata": {},
     "output_type": "execute_result"
    }
   ],
   "source": [
    "# Data preparation and cleaning for the economic indices similar to house\n",
    "\n",
    "economy = pd.read_csv('./data/economy.csv')\n",
    "economy = economy.drop(['Flags', 'Flag Codes','VARIABLE', 'TIME', 'Unit Code', 'Frequency', 'FREQUENCY', 'Edition', 'EDITION', 'LOCATION', 'Unit', 'PowerCode Code', 'PowerCode', 'Reference Period Code', 'Reference Period'] , axis = 1)\n",
    "economy = economy.pivot_table('Value', ['Country', 'Time'], 'Variable')\n",
    "economy = pd.DataFrame(economy.to_records())\n",
    "economy = economy.dropna(axis = 1)\n",
    "economy = economy[~economy.Country.str.contains('Euro area (17 countries)')]\n",
    "economy = economy[~economy.Country.str.contains('World')]\n",
    "economy.Country.unique()"
   ]
  },
  {
   "cell_type": "code",
   "execution_count": 23,
   "metadata": {
    "hideCode": false,
    "hidePrompt": false,
    "slideshow": {
     "slide_type": "skip"
    }
   },
   "outputs": [
    {
     "data": {
      "text/plain": [
       "array(['Belgium', 'France', 'Germany', 'Netherlands', 'Switzerland'],\n",
       "      dtype=object)"
      ]
     },
     "execution_count": 23,
     "metadata": {},
     "output_type": "execute_result"
    }
   ],
   "source": [
    "# Data preparation and cleaning for the economic indices similar to house\n",
    "\n",
    "indice_eco = pd.read_csv('./data/indice_eco.csv')\n",
    "indice_eco = indice_eco.rename(columns={'Subject':'Variable'})\n",
    "indice_eco = indice_eco.astype({\"Time\": object})\n",
    "indice_eco = indice_eco.drop(['Flags', 'Flag Codes', 'TIME', 'Frequency', 'FREQUENCY', 'SUBJECT', 'MEASURE', 'Measure', 'LOCATION', 'Unit', 'PowerCode Code', 'PowerCode', 'Reference Period Code', 'Reference Period', 'Unit Code'] , axis = 1)\n",
    "indice_eco = indice_eco.pivot_table('Value', ['Country', 'Time'], 'Variable')\n",
    "indice_eco = pd.DataFrame(indice_eco.to_records())\n",
    "indice_eco.Country.unique()"
   ]
  },
  {
   "cell_type": "code",
   "execution_count": 24,
   "metadata": {
    "hideCode": false,
    "hidePrompt": false,
    "scrolled": false,
    "slideshow": {
     "slide_type": "skip"
    }
   },
   "outputs": [
    {
     "data": {
      "text/html": [
       "<div>\n",
       "<style scoped>\n",
       "    .dataframe tbody tr th:only-of-type {\n",
       "        vertical-align: middle;\n",
       "    }\n",
       "\n",
       "    .dataframe tbody tr th {\n",
       "        vertical-align: top;\n",
       "    }\n",
       "\n",
       "    .dataframe thead th {\n",
       "        text-align: right;\n",
       "    }\n",
       "</style>\n",
       "<table border=\"1\" class=\"dataframe\">\n",
       "  <thead>\n",
       "    <tr style=\"text-align: right;\">\n",
       "      <th></th>\n",
       "      <th>Country</th>\n",
       "      <th>Time</th>\n",
       "      <th>Long-term interest rates, Per cent per annum</th>\n",
       "      <th>Short-term interest rates, Per cent per annum</th>\n",
       "    </tr>\n",
       "  </thead>\n",
       "  <tbody>\n",
       "    <tr>\n",
       "      <th>0</th>\n",
       "      <td>Belgium</td>\n",
       "      <td>2005</td>\n",
       "      <td>3.428333</td>\n",
       "      <td>2.184675</td>\n",
       "    </tr>\n",
       "    <tr>\n",
       "      <th>1</th>\n",
       "      <td>Belgium</td>\n",
       "      <td>2006</td>\n",
       "      <td>3.815000</td>\n",
       "      <td>3.079225</td>\n",
       "    </tr>\n",
       "    <tr>\n",
       "      <th>2</th>\n",
       "      <td>Belgium</td>\n",
       "      <td>2007</td>\n",
       "      <td>4.328333</td>\n",
       "      <td>4.277608</td>\n",
       "    </tr>\n",
       "    <tr>\n",
       "      <th>3</th>\n",
       "      <td>Belgium</td>\n",
       "      <td>2008</td>\n",
       "      <td>4.417500</td>\n",
       "      <td>4.634233</td>\n",
       "    </tr>\n",
       "    <tr>\n",
       "      <th>4</th>\n",
       "      <td>Belgium</td>\n",
       "      <td>2009</td>\n",
       "      <td>3.901667</td>\n",
       "      <td>1.228358</td>\n",
       "    </tr>\n",
       "  </tbody>\n",
       "</table>\n",
       "</div>"
      ],
      "text/plain": [
       "   Country  Time  Long-term interest rates, Per cent per annum  \\\n",
       "0  Belgium  2005                                      3.428333   \n",
       "1  Belgium  2006                                      3.815000   \n",
       "2  Belgium  2007                                      4.328333   \n",
       "3  Belgium  2008                                      4.417500   \n",
       "4  Belgium  2009                                      3.901667   \n",
       "\n",
       "   Short-term interest rates, Per cent per annum  \n",
       "0                                       2.184675  \n",
       "1                                       3.079225  \n",
       "2                                       4.277608  \n",
       "3                                       4.634233  \n",
       "4                                       1.228358  "
      ]
     },
     "execution_count": 24,
     "metadata": {},
     "output_type": "execute_result"
    }
   ],
   "source": [
    "# Data preparation and cleaning for the economic indices similar to house\n",
    "\n",
    "interest_rate = pd.read_csv('./data/interest_rate.csv')\n",
    "interest_rate = interest_rate.drop(['Flags', 'Flag Codes', 'TIME', 'Frequency', 'FREQUENCY', 'SUBJECT', 'LOCATION', 'Unit', 'PowerCode Code', 'PowerCode', 'Reference Period Code', 'Reference Period', 'Unit Code'] , axis = 1)\n",
    "interest_rate = interest_rate.rename(columns={\"Subject\": \"Variable\"})\n",
    "interest_rate = interest_rate.pivot_table('Value', ['Country', 'Time'], 'Variable')\n",
    "interest_rate = interest_rate.dropna(1)\n",
    "interest_rate = pd.DataFrame(interest_rate.to_records())\n",
    "interest_rate.head()"
   ]
  },
  {
   "cell_type": "code",
   "execution_count": 25,
   "metadata": {
    "hideCode": false,
    "hidePrompt": false,
    "slideshow": {
     "slide_type": "skip"
    }
   },
   "outputs": [
    {
     "name": "stdout",
     "output_type": "stream",
     "text": [
      "(75, 4)\n",
      "(75, 14)\n",
      "(92, 4)\n",
      "(70, 3)\n",
      "(102, 7)\n",
      "(70, 3)\n"
     ]
    }
   ],
   "source": [
    "# Recap of the shape of dataframe before to merge \n",
    "print(interest_rate.shape)\n",
    "print(indice_eco.shape)\n",
    "print(house.shape)\n",
    "print(demography.shape)\n",
    "print(economy.shape)\n",
    "print(unemployment.shape)"
   ]
  },
  {
   "cell_type": "markdown",
   "metadata": {
    "hideCode": false,
    "hidePrompt": false,
    "slideshow": {
     "slide_type": "slide"
    }
   },
   "source": [
    "## Features:\n",
    "    - Economy \n",
    "    - Demography \n",
    "    - Finance \n",
    "    \n",
    "## Target: \n",
    "    - House indices"
   ]
  },
  {
   "cell_type": "markdown",
   "metadata": {
    "slideshow": {
     "slide_type": "slide"
    }
   },
   "source": [
    "Open Source website used : oecd.org"
   ]
  },
  {
   "cell_type": "code",
   "execution_count": 30,
   "metadata": {
    "hideCode": true,
    "hidePrompt": true,
    "hide_input": false,
    "scrolled": false,
    "slideshow": {
     "slide_type": "fragment"
    }
   },
   "outputs": [
    {
     "name": "stdout",
     "output_type": "stream",
     "text": [
      "23 FEATURES:\n",
      "\n",
      "Country\n",
      "Time\n",
      "Construction, s.a.\n",
      "Exchange rates,  monthly averages, National currency per US dollar\n",
      "Exports in goods, s.a.\n",
      "GDP Exports; constant prices, s.a.\n",
      "GDP Government consumption expenditure; constant prices, s.a.\n",
      "GDP Gross fixed capital formation; constant prices, s.a.\n",
      "GDP Imports of goods and services; constant prices, s.a.\n",
      "GDP Private final consumption expenditure; constant prices, s.a.\n",
      "Gross domestic product; constant prices, s.a.\n",
      "Imports in goods, s.a.\n",
      "Long-term interest rate\n",
      "Total employment: all persons, s.a.\n",
      "Demography\n",
      "Long-term interest rates, Per cent per annum\n",
      "Short-term interest rates, Per cent per annum\n",
      "Exports of goods and services, volume in USD (national accounts basis)\n",
      "Goods and services trade, volume in USD\n",
      "Gross domestic product, volume, growth\n",
      "Gross domestic product, volume, market prices\n",
      "Imports of goods and services, volume in USD (national accounts basis)\n",
      "Real house price indices, s.a.\n",
      "Rent prices, s.a.\n"
     ]
    }
   ],
   "source": [
    "print('23 FEATURES:')\n",
    "print('')\n",
    "for c in columns:\n",
    "    print(c)"
   ]
  },
  {
   "cell_type": "markdown",
   "metadata": {
    "hideCode": false,
    "hidePrompt": false,
    "slideshow": {
     "slide_type": "slide"
    }
   },
   "source": [
    "# Real Price Predicted"
   ]
  },
  {
   "cell_type": "code",
   "execution_count": 27,
   "metadata": {
    "hideCode": false,
    "hidePrompt": false,
    "slideshow": {
     "slide_type": "skip"
    }
   },
   "outputs": [],
   "source": [
    "# inner method to don't have missing value \n",
    "\n",
    "database = pd.merge(indice_eco, demography,  how='inner', on=['Country','Time'])\n",
    "database = pd.merge(database, interest_rate,  how='inner', on=['Country','Time'])\n",
    "database = pd.merge(database, economy, how='inner', on =['Country', 'Time'])\n",
    "database = pd.merge(database, house,  how='inner', on=['Country','Time'])\n"
   ]
  },
  {
   "cell_type": "code",
   "execution_count": 28,
   "metadata": {
    "hideCode": false,
    "hidePrompt": false,
    "scrolled": false,
    "slideshow": {
     "slide_type": "skip"
    }
   },
   "outputs": [
    {
     "name": "stdout",
     "output_type": "stream",
     "text": [
      "(70, 24)\n",
      "<class 'pandas.core.frame.DataFrame'>\n",
      "Int64Index: 70 entries, 0 to 69\n",
      "Data columns (total 24 columns):\n",
      " #   Column                                                                  Non-Null Count  Dtype  \n",
      "---  ------                                                                  --------------  -----  \n",
      " 0   Country                                                                 70 non-null     object \n",
      " 1   Time                                                                    70 non-null     int64  \n",
      " 2   Construction, s.a.                                                      70 non-null     float64\n",
      " 3   Exchange rates,  monthly averages, National currency per US dollar      70 non-null     float64\n",
      " 4   Exports in goods, s.a.                                                  70 non-null     float64\n",
      " 5   GDP Exports; constant prices, s.a.                                      70 non-null     float64\n",
      " 6   GDP Government consumption expenditure; constant prices, s.a.           70 non-null     float64\n",
      " 7   GDP Gross fixed capital formation; constant prices, s.a.                70 non-null     float64\n",
      " 8   GDP Imports of goods and services; constant prices, s.a.                70 non-null     float64\n",
      " 9   GDP Private final consumption expenditure; constant prices, s.a.        70 non-null     float64\n",
      " 10  Gross domestic product; constant prices, s.a.                           70 non-null     float64\n",
      " 11  Imports in goods, s.a.                                                  70 non-null     float64\n",
      " 12  Long-term interest rate                                                 70 non-null     float64\n",
      " 13  Total employment: all persons, s.a.                                     70 non-null     float64\n",
      " 14  Demography                                                              70 non-null     int64  \n",
      " 15  Long-term interest rates, Per cent per annum                            70 non-null     float64\n",
      " 16  Short-term interest rates, Per cent per annum                           70 non-null     float64\n",
      " 17  Exports of goods and services, volume in USD (national accounts basis)  70 non-null     float64\n",
      " 18  Goods and services trade, volume in USD                                 70 non-null     float64\n",
      " 19  Gross domestic product, volume, growth                                  70 non-null     float64\n",
      " 20  Gross domestic product, volume, market prices                           70 non-null     float64\n",
      " 21  Imports of goods and services, volume in USD (national accounts basis)  70 non-null     float64\n",
      " 22  Real house price indices, s.a.                                          70 non-null     float64\n",
      " 23  Rent prices, s.a.                                                       70 non-null     float64\n",
      "dtypes: float64(21), int64(2), object(1)\n",
      "memory usage: 13.7+ KB\n",
      "None\n"
     ]
    }
   ],
   "source": [
    "print(database.shape)\n",
    "print(database.info())"
   ]
  },
  {
   "cell_type": "code",
   "execution_count": 29,
   "metadata": {
    "hideCode": false,
    "hidePrompt": false,
    "slideshow": {
     "slide_type": "skip"
    }
   },
   "outputs": [
    {
     "data": {
      "text/plain": [
       "Index(['Construction, s.a.',\n",
       "       'Exchange rates,  monthly averages, National currency per US dollar',\n",
       "       'Exports in goods, s.a.', 'GDP Exports; constant prices, s.a.',\n",
       "       'GDP Government consumption expenditure; constant prices, s.a.',\n",
       "       'GDP Gross fixed capital formation; constant prices, s.a.',\n",
       "       'GDP Imports of goods and services; constant prices, s.a.',\n",
       "       'GDP Private final consumption expenditure; constant prices, s.a.',\n",
       "       'Gross domestic product; constant prices, s.a.',\n",
       "       'Imports in goods, s.a.', 'Long-term interest rate',\n",
       "       'Total employment: all persons, s.a.', 'Demography',\n",
       "       'Long-term interest rates, Per cent per annum',\n",
       "       'Short-term interest rates, Per cent per annum',\n",
       "       'Exports of goods and services, volume in USD (national accounts basis)',\n",
       "       'Goods and services trade, volume in USD',\n",
       "       'Gross domestic product, volume, growth',\n",
       "       'Gross domestic product, volume, market prices',\n",
       "       'Imports of goods and services, volume in USD (national accounts basis)'],\n",
       "      dtype='object')"
      ]
     },
     "execution_count": 29,
     "metadata": {},
     "output_type": "execute_result"
    }
   ],
   "source": [
    "# Preparation of the X and the y \n",
    "columns = database.columns\n",
    "columns\n",
    "#params = columns.drop(['Time', 'Real Price Predicted', 'Rent prices, s.a.'])\n",
    "params = columns[2:-2]\n",
    "params"
   ]
  },
  {
   "cell_type": "code",
   "execution_count": 31,
   "metadata": {
    "hideCode": false,
    "hidePrompt": false,
    "slideshow": {
     "slide_type": "skip"
    }
   },
   "outputs": [],
   "source": [
    "# Linear Regression \n",
    "from sklearn.linear_model import LinearRegression\n",
    "params = columns[2:-2]\n",
    "\n",
    "X = database[params]\n",
    "y = database['Real house price indices, s.a.']\n",
    "\n",
    "model = LinearRegression()\n",
    "model.fit(X,y)\n",
    "database['Real Price Predicted'] = model.predict(X)"
   ]
  },
  {
   "cell_type": "code",
   "execution_count": 32,
   "metadata": {
    "hideCode": false,
    "hidePrompt": false,
    "slideshow": {
     "slide_type": "skip"
    }
   },
   "outputs": [],
   "source": [
    "Score_Linear_Regression = round(model.score(X, y),3)*100"
   ]
  },
  {
   "cell_type": "code",
   "execution_count": 33,
   "metadata": {
    "hideCode": true,
    "hidePrompt": true,
    "hide_input": true,
    "slideshow": {
     "slide_type": "fragment"
    }
   },
   "outputs": [
    {
     "name": "stdout",
     "output_type": "stream",
     "text": [
      "Linear Regression Score : 73.9 %\n"
     ]
    }
   ],
   "source": [
    "print( \"Linear Regression Score :\", Score_Linear_Regression, \"%\")"
   ]
  },
  {
   "cell_type": "code",
   "execution_count": 34,
   "metadata": {
    "hideCode": false,
    "hidePrompt": true,
    "hide_input": true,
    "scrolled": false,
    "slideshow": {
     "slide_type": "fragment"
    }
   },
   "outputs": [
    {
     "data": {
      "image/png": "[encoded data removed]",
      "text/plain": [
       "<Figure size 792x504 with 1 Axes>"
      ]
     },
     "metadata": {
      "needs_background": "light"
     },
     "output_type": "display_data"
    }
   ],
   "source": [
    "#database[['Real house price indices, s.a.', 'Real Price Predicted']].groupby(database['Country']).plot(alpha=0.5, figsize=(11,7), title = \"Accuracy\")\n",
    "\n",
    "#Non coventional use of plot but to better visualize the accuracy. \n",
    "# Keep together all the country \n",
    "database[['Real house price indices, s.a.', 'Real Price Predicted']].plot(alpha=0.5, figsize=(11,7), title = \"Overall Accuracy\", ylim= (0,160));"
   ]
  },
  {
   "cell_type": "code",
   "execution_count": 35,
   "metadata": {
    "hideCode": false,
    "hidePrompt": false,
    "hide_input": true,
    "slideshow": {
     "slide_type": "skip"
    }
   },
   "outputs": [
    {
     "data": {
      "text/plain": [
       "Construction, s.a.                                                        9.238928e-01\n",
       "Exchange rates,  monthly averages, National currency per US dollar       -7.809718e+01\n",
       "Exports in goods, s.a.                                                   -2.904593e-01\n",
       "GDP Exports; constant prices, s.a.                                        9.380915e-01\n",
       "GDP Government consumption expenditure; constant prices, s.a.             7.575991e-01\n",
       "GDP Gross fixed capital formation; constant prices, s.a.                 -1.185786e-01\n",
       "GDP Imports of goods and services; constant prices, s.a.                 -6.134945e-01\n",
       "GDP Private final consumption expenditure; constant prices, s.a.         -3.636939e+00\n",
       "Gross domestic product; constant prices, s.a.                            -4.494963e+00\n",
       "Imports in goods, s.a.                                                    9.694290e-02\n",
       "Long-term interest rate                                                  -1.058751e+00\n",
       "Total employment: all persons, s.a.                                       6.116001e-03\n",
       "Demography                                                               -4.218878e-07\n",
       "Long-term interest rates, Per cent per annum                             -1.079404e+00\n",
       "Short-term interest rates, Per cent per annum                             1.552949e+00\n",
       "Exports of goods and services, volume in USD (national accounts basis)   -2.078625e+02\n",
       "Goods and services trade, volume in USD                                   4.157251e+02\n",
       "Gross domestic product, volume, growth                                    4.822458e+00\n",
       "Gross domestic product, volume, market prices                            -4.249461e-11\n",
       "Imports of goods and services, volume in USD (national accounts basis)   -2.078625e+02\n",
       "dtype: float64"
      ]
     },
     "execution_count": 35,
     "metadata": {},
     "output_type": "execute_result"
    }
   ],
   "source": [
    "model_variables = pd.Series(model.coef_, index = X.columns)\n",
    "model_variables"
   ]
  },
  {
   "cell_type": "code",
   "execution_count": 36,
   "metadata": {
    "hideCode": false,
    "hidePrompt": false,
    "scrolled": false,
    "slideshow": {
     "slide_type": "skip"
    }
   },
   "outputs": [
    {
     "name": "stdout",
     "output_type": "stream",
     "text": [
      "                                  OLS Regression Results                                  \n",
      "==========================================================================================\n",
      "Dep. Variable:     Real house price indices, s.a.   R-squared:                       0.738\n",
      "Model:                                        OLS   Adj. R-squared:                  0.646\n",
      "Method:                             Least Squares   F-statistic:                     7.987\n",
      "Date:                            Tue, 05 Jan 2021   Prob (F-statistic):           2.27e-09\n",
      "Time:                                    16:49:56   Log-Likelihood:                -226.18\n",
      "No. Observations:                              70   AIC:                             490.4\n",
      "Df Residuals:                                  51   BIC:                             533.1\n",
      "Df Model:                                      18                                         \n",
      "Covariance Type:                        nonrobust                                         \n",
      "==========================================================================================================================================\n",
      "                                                                             coef    std err          t      P>|t|      [0.025      0.975]\n",
      "------------------------------------------------------------------------------------------------------------------------------------------\n",
      "const                                                                    139.1663     21.822      6.377      0.000      95.356     182.977\n",
      "Construction, s.a.                                                         0.9414      0.365      2.581      0.013       0.209       1.674\n",
      "Exchange rates,  monthly averages, National currency per US dollar       -77.4309     15.212     -5.090      0.000    -107.969     -46.892\n",
      "Exports in goods, s.a.                                                    -0.2679      0.204     -1.315      0.194      -0.677       0.141\n",
      "GDP Exports; constant prices, s.a.                                         0.9747      0.691      1.411      0.164      -0.413       2.362\n",
      "GDP Government consumption expenditure; constant prices, s.a.              0.7660      0.896      0.854      0.397      -1.034       2.566\n",
      "GDP Gross fixed capital formation; constant prices, s.a.                  -0.1039      0.267     -0.389      0.699      -0.640       0.432\n",
      "GDP Imports of goods and services; constant prices, s.a.                  -0.6307      0.592     -1.065      0.292      -1.819       0.558\n",
      "GDP Private final consumption expenditure; constant prices, s.a.          -3.5637      1.479     -2.409      0.020      -6.534      -0.594\n",
      "Gross domestic product; constant prices, s.a.                             -4.7694      6.146     -0.776      0.441     -17.109       7.570\n",
      "Imports in goods, s.a.                                                     0.0827      0.195      0.423      0.674      -0.309       0.475\n",
      "Long-term interest rate                                                   -0.9767      1.089     -0.897      0.374      -3.163       1.210\n",
      "Total employment: all persons, s.a.                                        0.0054      0.007      0.785      0.436      -0.008       0.019\n",
      "Demography                                                             -3.967e-07   1.04e-06     -0.381      0.704   -2.48e-06    1.69e-06\n",
      "Long-term interest rates, Per cent per annum                              -0.9767      1.089     -0.897      0.374      -3.163       1.210\n",
      "Short-term interest rates, Per cent per annum                              1.4060      1.450      0.970      0.337      -1.504       4.316\n",
      "Exports of goods and services, volume in USD (national accounts basis)     0.2576      0.041      6.343      0.000       0.176       0.339\n",
      "Goods and services trade, volume in USD                                   -0.5152      0.081     -6.343      0.000      -0.678      -0.352\n",
      "Gross domestic product, volume, growth                                     5.0017      6.116      0.818      0.417      -7.276      17.279\n",
      "Gross domestic product, volume, market prices                          -3.826e-11   2.34e-11     -1.636      0.108   -8.52e-11    8.69e-12\n",
      "Imports of goods and services, volume in USD (national accounts basis)     0.2576      0.041      6.343      0.000       0.176       0.339\n",
      "==============================================================================\n",
      "Omnibus:                        0.291   Durbin-Watson:                   1.094\n",
      "Prob(Omnibus):                  0.865   Jarque-Bera (JB):                0.182\n",
      "Skew:                           0.123   Prob(JB):                        0.913\n",
      "Kurtosis:                       2.957   Cond. No.                     1.49e+19\n",
      "==============================================================================\n",
      "\n",
      "Notes:\n",
      "[1] Standard Errors assume that the covariance matrix of the errors is correctly specified.\n",
      "[2] The smallest eigenvalue is 1.36e-12. This might indicate that there are\n",
      "strong multicollinearity problems or that the design matrix is singular.\n"
     ]
    }
   ],
   "source": [
    "# Other method using statsmodel to get the significant impact of each features (p_value)\n",
    "\n",
    "from sklearn import datasets, linear_model\n",
    "from sklearn.linear_model import LinearRegression\n",
    "import statsmodels.api as sm\n",
    "from scipy import stats\n",
    "\n",
    "\n",
    "X2 = sm.add_constant(X)\n",
    "est = sm.OLS(y, X2)\n",
    "model2 = est.fit()\n",
    "print(model2.summary())"
   ]
  },
  {
   "cell_type": "code",
   "execution_count": 37,
   "metadata": {
    "hideCode": false,
    "hidePrompt": false,
    "slideshow": {
     "slide_type": "skip"
    }
   },
   "outputs": [
    {
     "data": {
      "text/plain": [
       "0.6464180223554045"
      ]
     },
     "execution_count": 37,
     "metadata": {},
     "output_type": "execute_result"
    }
   ],
   "source": [
    "# Trying to see if the ridge methode can improve the linear model \n",
    "from sklearn.linear_model import Ridge\n",
    "#X_train, X_test, y_train, y_test = train_test_split(X, y, test_size = 0.3, random_state=42) \n",
    "ridge = Ridge(alpha=0.1, normalize=True) \n",
    "ridge.fit(X, y)\n",
    "ridge_pred = ridge.predict(X) \n",
    "ridge.score(X, y)"
   ]
  },
  {
   "cell_type": "code",
   "execution_count": 38,
   "metadata": {
    "hideCode": false,
    "hidePrompt": false,
    "slideshow": {
     "slide_type": "skip"
    }
   },
   "outputs": [
    {
     "data": {
      "text/plain": [
       "array([ 1.19845338e+00, -5.19314154e+01, -1.37674886e-02,  3.81987537e-01,\n",
       "        1.38492077e+00, -3.81576164e-02, -3.57888449e-02, -3.16023745e+00,\n",
       "       -3.98490493e-01, -3.63480677e-03, -1.16620588e+00, -9.69596846e-05,\n",
       "        2.79898292e-09, -1.16620697e+00, -2.77739031e-01, -3.42885439e-13,\n",
       "        1.72622854e-12,  9.01271378e-02, -1.20174181e-12,  4.59244713e-12])"
      ]
     },
     "execution_count": 38,
     "metadata": {},
     "output_type": "execute_result"
    }
   ],
   "source": [
    "ridge.coef_"
   ]
  },
  {
   "cell_type": "code",
   "execution_count": 39,
   "metadata": {
    "hideCode": false,
    "hidePrompt": false,
    "slideshow": {
     "slide_type": "skip"
    }
   },
   "outputs": [
    {
     "data": {
      "text/plain": [
       "0.5700076604806421"
      ]
     },
     "execution_count": 39,
     "metadata": {},
     "output_type": "execute_result"
    }
   ],
   "source": [
    "#Lasso : small number of significant parameters and the others are close to zero \n",
    "# when only a few predictors actually influence the response)\n",
    "\n",
    "# Trying to see if the lasso methode can improve the linear model \n",
    "\n",
    "from sklearn.linear_model import Lasso\n",
    "#X_train, X_test, y_train, y_test = train_test_split(X, y, test_size = 0.3, random_state=42) \n",
    "lasso = Lasso(alpha=0.1, normalize=True) \n",
    "lasso.fit(X, y)\n",
    "lasso_pred = lasso.predict(X) \n",
    "lasso.score(X, y)\n"
   ]
  },
  {
   "cell_type": "code",
   "execution_count": 40,
   "metadata": {
    "hideCode": false,
    "hidePrompt": false,
    "slideshow": {
     "slide_type": "skip"
    }
   },
   "outputs": [
    {
     "data": {
      "text/plain": [
       "array([ 1.12457511e+00, -4.11094318e+01, -0.00000000e+00,  0.00000000e+00,\n",
       "        3.49058173e-01, -0.00000000e+00,  0.00000000e+00, -2.22043500e+00,\n",
       "       -0.00000000e+00, -0.00000000e+00, -1.52082228e+00, -0.00000000e+00,\n",
       "       -0.00000000e+00, -2.19456251e-03, -0.00000000e+00, -0.00000000e+00,\n",
       "       -0.00000000e+00,  0.00000000e+00, -2.49470885e-13, -0.00000000e+00])"
      ]
     },
     "execution_count": 40,
     "metadata": {},
     "output_type": "execute_result"
    }
   ],
   "source": [
    "lasso.coef_"
   ]
  },
  {
   "cell_type": "code",
   "execution_count": 41,
   "metadata": {
    "hideCode": false,
    "hidePrompt": false,
    "slideshow": {
     "slide_type": "skip"
    }
   },
   "outputs": [
    {
     "data": {
      "text/html": [
       "<div>\n",
       "<style scoped>\n",
       "    .dataframe tbody tr th:only-of-type {\n",
       "        vertical-align: middle;\n",
       "    }\n",
       "\n",
       "    .dataframe tbody tr th {\n",
       "        vertical-align: top;\n",
       "    }\n",
       "\n",
       "    .dataframe thead th {\n",
       "        text-align: right;\n",
       "    }\n",
       "</style>\n",
       "<table border=\"1\" class=\"dataframe\">\n",
       "  <thead>\n",
       "    <tr style=\"text-align: right;\">\n",
       "      <th></th>\n",
       "      <th>Country</th>\n",
       "      <th>Time</th>\n",
       "      <th>Construction, s.a.</th>\n",
       "      <th>Exchange rates,  monthly averages, National currency per US dollar</th>\n",
       "      <th>Exports in goods, s.a.</th>\n",
       "      <th>GDP Exports; constant prices, s.a.</th>\n",
       "      <th>GDP Government consumption expenditure; constant prices, s.a.</th>\n",
       "      <th>GDP Gross fixed capital formation; constant prices, s.a.</th>\n",
       "      <th>GDP Imports of goods and services; constant prices, s.a.</th>\n",
       "      <th>GDP Private final consumption expenditure; constant prices, s.a.</th>\n",
       "      <th>...</th>\n",
       "      <th>Long-term interest rates, Per cent per annum</th>\n",
       "      <th>Short-term interest rates, Per cent per annum</th>\n",
       "      <th>Exports of goods and services, volume in USD (national accounts basis)</th>\n",
       "      <th>Goods and services trade, volume in USD</th>\n",
       "      <th>Gross domestic product, volume, growth</th>\n",
       "      <th>Gross domestic product, volume, market prices</th>\n",
       "      <th>Imports of goods and services, volume in USD (national accounts basis)</th>\n",
       "      <th>Real house price indices, s.a.</th>\n",
       "      <th>Rent prices, s.a.</th>\n",
       "      <th>Real Price Predicted</th>\n",
       "    </tr>\n",
       "  </thead>\n",
       "  <tbody>\n",
       "    <tr>\n",
       "      <th>0</th>\n",
       "      <td>Belgium</td>\n",
       "      <td>2005</td>\n",
       "      <td>33.338945</td>\n",
       "      <td>0.804619</td>\n",
       "      <td>117.904172</td>\n",
       "      <td>5.511395</td>\n",
       "      <td>0.362900</td>\n",
       "      <td>5.737993</td>\n",
       "      <td>6.426879</td>\n",
       "      <td>1.443894</td>\n",
       "      <td>...</td>\n",
       "      <td>3.428333</td>\n",
       "      <td>2.184675</td>\n",
       "      <td>2.837448e+11</td>\n",
       "      <td>2.785544e+11</td>\n",
       "      <td>2.327063</td>\n",
       "      <td>3.629500e+11</td>\n",
       "      <td>2.733640e+11</td>\n",
       "      <td>85.966501</td>\n",
       "      <td>83.868974</td>\n",
       "      <td>99.105019</td>\n",
       "    </tr>\n",
       "    <tr>\n",
       "      <th>1</th>\n",
       "      <td>Belgium</td>\n",
       "      <td>2006</td>\n",
       "      <td>36.719902</td>\n",
       "      <td>0.796697</td>\n",
       "      <td>129.564150</td>\n",
       "      <td>5.700468</td>\n",
       "      <td>0.744712</td>\n",
       "      <td>1.907679</td>\n",
       "      <td>5.141959</td>\n",
       "      <td>1.775247</td>\n",
       "      <td>...</td>\n",
       "      <td>3.815000</td>\n",
       "      <td>3.079225</td>\n",
       "      <td>2.999169e+11</td>\n",
       "      <td>2.936664e+11</td>\n",
       "      <td>2.552693</td>\n",
       "      <td>3.722150e+11</td>\n",
       "      <td>2.874159e+11</td>\n",
       "      <td>91.823655</td>\n",
       "      <td>86.793144</td>\n",
       "      <td>102.253805</td>\n",
       "    </tr>\n",
       "    <tr>\n",
       "      <th>2</th>\n",
       "      <td>Belgium</td>\n",
       "      <td>2007</td>\n",
       "      <td>36.582985</td>\n",
       "      <td>0.730485</td>\n",
       "      <td>155.374066</td>\n",
       "      <td>5.435944</td>\n",
       "      <td>1.926214</td>\n",
       "      <td>7.280276</td>\n",
       "      <td>5.578809</td>\n",
       "      <td>2.092180</td>\n",
       "      <td>...</td>\n",
       "      <td>4.328333</td>\n",
       "      <td>4.277608</td>\n",
       "      <td>3.162389e+11</td>\n",
       "      <td>3.096044e+11</td>\n",
       "      <td>3.672340</td>\n",
       "      <td>3.858840e+11</td>\n",
       "      <td>3.029700e+11</td>\n",
       "      <td>96.400982</td>\n",
       "      <td>88.486539</td>\n",
       "      <td>103.434624</td>\n",
       "    </tr>\n",
       "    <tr>\n",
       "      <th>3</th>\n",
       "      <td>Belgium</td>\n",
       "      <td>2008</td>\n",
       "      <td>36.529361</td>\n",
       "      <td>0.683982</td>\n",
       "      <td>162.718797</td>\n",
       "      <td>1.808015</td>\n",
       "      <td>3.099646</td>\n",
       "      <td>1.906937</td>\n",
       "      <td>3.805156</td>\n",
       "      <td>1.375596</td>\n",
       "      <td>...</td>\n",
       "      <td>4.417500</td>\n",
       "      <td>4.634233</td>\n",
       "      <td>3.219642e+11</td>\n",
       "      <td>3.181284e+11</td>\n",
       "      <td>0.445471</td>\n",
       "      <td>3.876030e+11</td>\n",
       "      <td>3.142925e+11</td>\n",
       "      <td>97.562672</td>\n",
       "      <td>90.229242</td>\n",
       "      <td>108.308313</td>\n",
       "    </tr>\n",
       "    <tr>\n",
       "      <th>4</th>\n",
       "      <td>Belgium</td>\n",
       "      <td>2009</td>\n",
       "      <td>31.763324</td>\n",
       "      <td>0.719800</td>\n",
       "      <td>109.441161</td>\n",
       "      <td>-11.275662</td>\n",
       "      <td>1.579246</td>\n",
       "      <td>-6.622802</td>\n",
       "      <td>-10.859132</td>\n",
       "      <td>0.583748</td>\n",
       "      <td>...</td>\n",
       "      <td>3.901667</td>\n",
       "      <td>1.228358</td>\n",
       "      <td>2.856529e+11</td>\n",
       "      <td>2.830589e+11</td>\n",
       "      <td>-2.018044</td>\n",
       "      <td>3.797810e+11</td>\n",
       "      <td>2.804649e+11</td>\n",
       "      <td>97.904371</td>\n",
       "      <td>92.106929</td>\n",
       "      <td>102.267152</td>\n",
       "    </tr>\n",
       "    <tr>\n",
       "      <th>...</th>\n",
       "      <td>...</td>\n",
       "      <td>...</td>\n",
       "      <td>...</td>\n",
       "      <td>...</td>\n",
       "      <td>...</td>\n",
       "      <td>...</td>\n",
       "      <td>...</td>\n",
       "      <td>...</td>\n",
       "      <td>...</td>\n",
       "      <td>...</td>\n",
       "      <td>...</td>\n",
       "      <td>...</td>\n",
       "      <td>...</td>\n",
       "      <td>...</td>\n",
       "      <td>...</td>\n",
       "      <td>...</td>\n",
       "      <td>...</td>\n",
       "      <td>...</td>\n",
       "      <td>...</td>\n",
       "      <td>...</td>\n",
       "      <td>...</td>\n",
       "    </tr>\n",
       "    <tr>\n",
       "      <th>65</th>\n",
       "      <td>Switzerland</td>\n",
       "      <td>2014</td>\n",
       "      <td>36.145684</td>\n",
       "      <td>0.915047</td>\n",
       "      <td>79.192283</td>\n",
       "      <td>-6.214703</td>\n",
       "      <td>2.203230</td>\n",
       "      <td>2.554901</td>\n",
       "      <td>-7.308324</td>\n",
       "      <td>0.977728</td>\n",
       "      <td>...</td>\n",
       "      <td>0.692500</td>\n",
       "      <td>0.007833</td>\n",
       "      <td>4.125739e+11</td>\n",
       "      <td>3.708179e+11</td>\n",
       "      <td>2.482878</td>\n",
       "      <td>6.530328e+11</td>\n",
       "      <td>3.290619e+11</td>\n",
       "      <td>96.129403</td>\n",
       "      <td>99.210405</td>\n",
       "      <td>100.018242</td>\n",
       "    </tr>\n",
       "    <tr>\n",
       "      <th>66</th>\n",
       "      <td>Switzerland</td>\n",
       "      <td>2015</td>\n",
       "      <td>31.113836</td>\n",
       "      <td>0.962342</td>\n",
       "      <td>65.207775</td>\n",
       "      <td>4.132600</td>\n",
       "      <td>0.583072</td>\n",
       "      <td>2.078280</td>\n",
       "      <td>4.756652</td>\n",
       "      <td>2.465477</td>\n",
       "      <td>...</td>\n",
       "      <td>-0.069167</td>\n",
       "      <td>-0.783750</td>\n",
       "      <td>4.228485e+11</td>\n",
       "      <td>3.831339e+11</td>\n",
       "      <td>1.265779</td>\n",
       "      <td>6.612988e+11</td>\n",
       "      <td>3.434194e+11</td>\n",
       "      <td>100.000000</td>\n",
       "      <td>100.000000</td>\n",
       "      <td>89.237839</td>\n",
       "    </tr>\n",
       "    <tr>\n",
       "      <th>67</th>\n",
       "      <td>Switzerland</td>\n",
       "      <td>2016</td>\n",
       "      <td>32.700223</td>\n",
       "      <td>0.985125</td>\n",
       "      <td>72.528091</td>\n",
       "      <td>6.511148</td>\n",
       "      <td>0.351046</td>\n",
       "      <td>2.918257</td>\n",
       "      <td>5.311059</td>\n",
       "      <td>1.629927</td>\n",
       "      <td>...</td>\n",
       "      <td>-0.362000</td>\n",
       "      <td>-0.748117</td>\n",
       "      <td>4.495438e+11</td>\n",
       "      <td>4.062063e+11</td>\n",
       "      <td>1.711969</td>\n",
       "      <td>6.726200e+11</td>\n",
       "      <td>3.628689e+11</td>\n",
       "      <td>101.786000</td>\n",
       "      <td>100.316695</td>\n",
       "      <td>95.189328</td>\n",
       "    </tr>\n",
       "    <tr>\n",
       "      <th>68</th>\n",
       "      <td>Switzerland</td>\n",
       "      <td>2017</td>\n",
       "      <td>35.283143</td>\n",
       "      <td>0.984747</td>\n",
       "      <td>78.045858</td>\n",
       "      <td>-0.333537</td>\n",
       "      <td>0.585615</td>\n",
       "      <td>3.591128</td>\n",
       "      <td>-0.876981</td>\n",
       "      <td>1.162189</td>\n",
       "      <td>...</td>\n",
       "      <td>-0.072083</td>\n",
       "      <td>-0.731400</td>\n",
       "      <td>4.496176e+11</td>\n",
       "      <td>4.053690e+11</td>\n",
       "      <td>1.864886</td>\n",
       "      <td>6.851636e+11</td>\n",
       "      <td>3.611204e+11</td>\n",
       "      <td>102.943270</td>\n",
       "      <td>101.383872</td>\n",
       "      <td>97.744611</td>\n",
       "    </tr>\n",
       "    <tr>\n",
       "      <th>69</th>\n",
       "      <td>Switzerland</td>\n",
       "      <td>2018</td>\n",
       "      <td>33.934658</td>\n",
       "      <td>0.977904</td>\n",
       "      <td>83.404692</td>\n",
       "      <td>3.426289</td>\n",
       "      <td>0.914177</td>\n",
       "      <td>0.755442</td>\n",
       "      <td>0.406112</td>\n",
       "      <td>0.831946</td>\n",
       "      <td>...</td>\n",
       "      <td>0.033167</td>\n",
       "      <td>-0.734050</td>\n",
       "      <td>4.625017e+11</td>\n",
       "      <td>4.113115e+11</td>\n",
       "      <td>2.744382</td>\n",
       "      <td>7.039671e+11</td>\n",
       "      <td>3.601214e+11</td>\n",
       "      <td>104.709597</td>\n",
       "      <td>101.752872</td>\n",
       "      <td>98.143710</td>\n",
       "    </tr>\n",
       "  </tbody>\n",
       "</table>\n",
       "<p>70 rows × 25 columns</p>\n",
       "</div>"
      ],
      "text/plain": [
       "        Country  Time  Construction, s.a.  \\\n",
       "0       Belgium  2005           33.338945   \n",
       "1       Belgium  2006           36.719902   \n",
       "2       Belgium  2007           36.582985   \n",
       "3       Belgium  2008           36.529361   \n",
       "4       Belgium  2009           31.763324   \n",
       "..          ...   ...                 ...   \n",
       "65  Switzerland  2014           36.145684   \n",
       "66  Switzerland  2015           31.113836   \n",
       "67  Switzerland  2016           32.700223   \n",
       "68  Switzerland  2017           35.283143   \n",
       "69  Switzerland  2018           33.934658   \n",
       "\n",
       "    Exchange rates,  monthly averages, National currency per US dollar  \\\n",
       "0                                            0.804619                    \n",
       "1                                            0.796697                    \n",
       "2                                            0.730485                    \n",
       "3                                            0.683982                    \n",
       "4                                            0.719800                    \n",
       "..                                                ...                    \n",
       "65                                           0.915047                    \n",
       "66                                           0.962342                    \n",
       "67                                           0.985125                    \n",
       "68                                           0.984747                    \n",
       "69                                           0.977904                    \n",
       "\n",
       "    Exports in goods, s.a.  GDP Exports; constant prices, s.a.  \\\n",
       "0               117.904172                            5.511395   \n",
       "1               129.564150                            5.700468   \n",
       "2               155.374066                            5.435944   \n",
       "3               162.718797                            1.808015   \n",
       "4               109.441161                          -11.275662   \n",
       "..                     ...                                 ...   \n",
       "65               79.192283                           -6.214703   \n",
       "66               65.207775                            4.132600   \n",
       "67               72.528091                            6.511148   \n",
       "68               78.045858                           -0.333537   \n",
       "69               83.404692                            3.426289   \n",
       "\n",
       "    GDP Government consumption expenditure; constant prices, s.a.  \\\n",
       "0                                            0.362900               \n",
       "1                                            0.744712               \n",
       "2                                            1.926214               \n",
       "3                                            3.099646               \n",
       "4                                            1.579246               \n",
       "..                                                ...               \n",
       "65                                           2.203230               \n",
       "66                                           0.583072               \n",
       "67                                           0.351046               \n",
       "68                                           0.585615               \n",
       "69                                           0.914177               \n",
       "\n",
       "    GDP Gross fixed capital formation; constant prices, s.a.  \\\n",
       "0                                            5.737993          \n",
       "1                                            1.907679          \n",
       "2                                            7.280276          \n",
       "3                                            1.906937          \n",
       "4                                           -6.622802          \n",
       "..                                                ...          \n",
       "65                                           2.554901          \n",
       "66                                           2.078280          \n",
       "67                                           2.918257          \n",
       "68                                           3.591128          \n",
       "69                                           0.755442          \n",
       "\n",
       "    GDP Imports of goods and services; constant prices, s.a.  \\\n",
       "0                                            6.426879          \n",
       "1                                            5.141959          \n",
       "2                                            5.578809          \n",
       "3                                            3.805156          \n",
       "4                                          -10.859132          \n",
       "..                                                ...          \n",
       "65                                          -7.308324          \n",
       "66                                           4.756652          \n",
       "67                                           5.311059          \n",
       "68                                          -0.876981          \n",
       "69                                           0.406112          \n",
       "\n",
       "    GDP Private final consumption expenditure; constant prices, s.a.  ...  \\\n",
       "0                                            1.443894                 ...   \n",
       "1                                            1.775247                 ...   \n",
       "2                                            2.092180                 ...   \n",
       "3                                            1.375596                 ...   \n",
       "4                                            0.583748                 ...   \n",
       "..                                                ...                 ...   \n",
       "65                                           0.977728                 ...   \n",
       "66                                           2.465477                 ...   \n",
       "67                                           1.629927                 ...   \n",
       "68                                           1.162189                 ...   \n",
       "69                                           0.831946                 ...   \n",
       "\n",
       "    Long-term interest rates, Per cent per annum  \\\n",
       "0                                       3.428333   \n",
       "1                                       3.815000   \n",
       "2                                       4.328333   \n",
       "3                                       4.417500   \n",
       "4                                       3.901667   \n",
       "..                                           ...   \n",
       "65                                      0.692500   \n",
       "66                                     -0.069167   \n",
       "67                                     -0.362000   \n",
       "68                                     -0.072083   \n",
       "69                                      0.033167   \n",
       "\n",
       "    Short-term interest rates, Per cent per annum  \\\n",
       "0                                        2.184675   \n",
       "1                                        3.079225   \n",
       "2                                        4.277608   \n",
       "3                                        4.634233   \n",
       "4                                        1.228358   \n",
       "..                                            ...   \n",
       "65                                       0.007833   \n",
       "66                                      -0.783750   \n",
       "67                                      -0.748117   \n",
       "68                                      -0.731400   \n",
       "69                                      -0.734050   \n",
       "\n",
       "    Exports of goods and services, volume in USD (national accounts basis)  \\\n",
       "0                                        2.837448e+11                        \n",
       "1                                        2.999169e+11                        \n",
       "2                                        3.162389e+11                        \n",
       "3                                        3.219642e+11                        \n",
       "4                                        2.856529e+11                        \n",
       "..                                                ...                        \n",
       "65                                       4.125739e+11                        \n",
       "66                                       4.228485e+11                        \n",
       "67                                       4.495438e+11                        \n",
       "68                                       4.496176e+11                        \n",
       "69                                       4.625017e+11                        \n",
       "\n",
       "    Goods and services trade, volume in USD  \\\n",
       "0                              2.785544e+11   \n",
       "1                              2.936664e+11   \n",
       "2                              3.096044e+11   \n",
       "3                              3.181284e+11   \n",
       "4                              2.830589e+11   \n",
       "..                                      ...   \n",
       "65                             3.708179e+11   \n",
       "66                             3.831339e+11   \n",
       "67                             4.062063e+11   \n",
       "68                             4.053690e+11   \n",
       "69                             4.113115e+11   \n",
       "\n",
       "    Gross domestic product, volume, growth  \\\n",
       "0                                 2.327063   \n",
       "1                                 2.552693   \n",
       "2                                 3.672340   \n",
       "3                                 0.445471   \n",
       "4                                -2.018044   \n",
       "..                                     ...   \n",
       "65                                2.482878   \n",
       "66                                1.265779   \n",
       "67                                1.711969   \n",
       "68                                1.864886   \n",
       "69                                2.744382   \n",
       "\n",
       "    Gross domestic product, volume, market prices  \\\n",
       "0                                    3.629500e+11   \n",
       "1                                    3.722150e+11   \n",
       "2                                    3.858840e+11   \n",
       "3                                    3.876030e+11   \n",
       "4                                    3.797810e+11   \n",
       "..                                            ...   \n",
       "65                                   6.530328e+11   \n",
       "66                                   6.612988e+11   \n",
       "67                                   6.726200e+11   \n",
       "68                                   6.851636e+11   \n",
       "69                                   7.039671e+11   \n",
       "\n",
       "    Imports of goods and services, volume in USD (national accounts basis)  \\\n",
       "0                                        2.733640e+11                        \n",
       "1                                        2.874159e+11                        \n",
       "2                                        3.029700e+11                        \n",
       "3                                        3.142925e+11                        \n",
       "4                                        2.804649e+11                        \n",
       "..                                                ...                        \n",
       "65                                       3.290619e+11                        \n",
       "66                                       3.434194e+11                        \n",
       "67                                       3.628689e+11                        \n",
       "68                                       3.611204e+11                        \n",
       "69                                       3.601214e+11                        \n",
       "\n",
       "    Real house price indices, s.a.  Rent prices, s.a.  Real Price Predicted  \n",
       "0                        85.966501          83.868974             99.105019  \n",
       "1                        91.823655          86.793144            102.253805  \n",
       "2                        96.400982          88.486539            103.434624  \n",
       "3                        97.562672          90.229242            108.308313  \n",
       "4                        97.904371          92.106929            102.267152  \n",
       "..                             ...                ...                   ...  \n",
       "65                       96.129403          99.210405            100.018242  \n",
       "66                      100.000000         100.000000             89.237839  \n",
       "67                      101.786000         100.316695             95.189328  \n",
       "68                      102.943270         101.383872             97.744611  \n",
       "69                      104.709597         101.752872             98.143710  \n",
       "\n",
       "[70 rows x 25 columns]"
      ]
     },
     "execution_count": 41,
     "metadata": {},
     "output_type": "execute_result"
    }
   ],
   "source": [
    "database"
   ]
  },
  {
   "cell_type": "markdown",
   "metadata": {
    "hideCode": false,
    "hidePrompt": false,
    "slideshow": {
     "slide_type": "slide"
    }
   },
   "source": [
    "# Rent Price indice"
   ]
  },
  {
   "cell_type": "code",
   "execution_count": 42,
   "metadata": {
    "slideshow": {
     "slide_type": "skip"
    }
   },
   "outputs": [],
   "source": [
    "# Same process like Real price indice but with the rent price"
   ]
  },
  {
   "cell_type": "code",
   "execution_count": 43,
   "metadata": {
    "hideCode": false,
    "hidePrompt": false,
    "slideshow": {
     "slide_type": "skip"
    }
   },
   "outputs": [],
   "source": [
    "database = pd.merge(indice_eco, demography,  how='inner', on=['Country','Time'])\n",
    "database = pd.merge(database, interest_rate,  how='inner', on=['Country','Time'])\n",
    "database = pd.merge(database, economy, how='inner', on =['Country', 'Time'])\n",
    "database = pd.merge(database, unemployment, how='inner', on =['Country', 'Time'])\n",
    "database = pd.merge(database, house,  how='inner', on=['Country','Time'])"
   ]
  },
  {
   "cell_type": "code",
   "execution_count": 44,
   "metadata": {
    "hideCode": false,
    "hidePrompt": false,
    "scrolled": true,
    "slideshow": {
     "slide_type": "skip"
    }
   },
   "outputs": [
    {
     "data": {
      "text/plain": [
       "Index(['Construction, s.a.',\n",
       "       'Exchange rates,  monthly averages, National currency per US dollar',\n",
       "       'Exports in goods, s.a.', 'GDP Exports; constant prices, s.a.',\n",
       "       'GDP Government consumption expenditure; constant prices, s.a.',\n",
       "       'GDP Gross fixed capital formation; constant prices, s.a.',\n",
       "       'GDP Imports of goods and services; constant prices, s.a.',\n",
       "       'GDP Private final consumption expenditure; constant prices, s.a.',\n",
       "       'Gross domestic product; constant prices, s.a.',\n",
       "       'Imports in goods, s.a.', 'Long-term interest rate',\n",
       "       'Total employment: all persons, s.a.', 'Demography',\n",
       "       'Long-term interest rates, Per cent per annum',\n",
       "       'Short-term interest rates, Per cent per annum',\n",
       "       'Exports of goods and services, volume in USD (national accounts basis)',\n",
       "       'Goods and services trade, volume in USD',\n",
       "       'Gross domestic product, volume, growth',\n",
       "       'Gross domestic product, volume, market prices',\n",
       "       'Imports of goods and services, volume in USD (national accounts basis)',\n",
       "       'Unemployment rate'],\n",
       "      dtype='object')"
      ]
     },
     "execution_count": 44,
     "metadata": {},
     "output_type": "execute_result"
    }
   ],
   "source": [
    "columns = database.columns\n",
    "columns\n",
    "#params = columns.drop(['Time', 'Real Price Predicted', 'Rent prices, s.a.'])\n",
    "params = columns[2:-2]\n",
    "params"
   ]
  },
  {
   "cell_type": "code",
   "execution_count": 45,
   "metadata": {
    "hideCode": false,
    "hidePrompt": false,
    "slideshow": {
     "slide_type": "skip"
    }
   },
   "outputs": [],
   "source": [
    "from sklearn.linear_model import LinearRegression\n",
    "params = columns[2:-2]\n",
    "\n",
    "X = database[params]\n",
    "y = database['Rent prices, s.a.']\n",
    "\n",
    "model = LinearRegression()\n",
    "model.fit(X,y)\n",
    "database['Rent prices Predicted'] = model.predict(X)"
   ]
  },
  {
   "cell_type": "code",
   "execution_count": 46,
   "metadata": {
    "hideCode": false,
    "hidePrompt": false,
    "slideshow": {
     "slide_type": "skip"
    }
   },
   "outputs": [
    {
     "data": {
      "text/plain": [
       "88.9"
      ]
     },
     "execution_count": 46,
     "metadata": {},
     "output_type": "execute_result"
    }
   ],
   "source": [
    "Score_linear_regression2 = round(model.score(X, y),3) * 100\n",
    "Score_linear_regression2"
   ]
  },
  {
   "cell_type": "code",
   "execution_count": 47,
   "metadata": {
    "hideCode": true,
    "hidePrompt": true,
    "hide_input": true,
    "slideshow": {
     "slide_type": "fragment"
    }
   },
   "outputs": [
    {
     "name": "stdout",
     "output_type": "stream",
     "text": [
      "Linear Regression Score : 88.9 %\n"
     ]
    }
   ],
   "source": [
    "print( \"Linear Regression Score :\", Score_linear_regression2, \"%\")"
   ]
  },
  {
   "cell_type": "code",
   "execution_count": 48,
   "metadata": {
    "hideCode": true,
    "hidePrompt": true,
    "hide_input": true,
    "slideshow": {
     "slide_type": "fragment"
    }
   },
   "outputs": [
    {
     "data": {
      "image/png": "[encoded data removed]",
      "text/plain": [
       "<Figure size 792x504 with 1 Axes>"
      ]
     },
     "metadata": {
      "needs_background": "light"
     },
     "output_type": "display_data"
    }
   ],
   "source": [
    "database[['Rent prices, s.a.', 'Rent prices Predicted']].plot(alpha=0.5, ylim= (0,160), title = \"Overall Accuracy\", figsize=(11,7));"
   ]
  },
  {
   "cell_type": "markdown",
   "metadata": {
    "slideshow": {
     "slide_type": "slide"
    }
   },
   "source": [
    "## Accuracy for Netherlands"
   ]
  },
  {
   "cell_type": "code",
   "execution_count": 49,
   "metadata": {
    "hideCode": true,
    "hidePrompt": true,
    "hide_input": true,
    "slideshow": {
     "slide_type": "fragment"
    }
   },
   "outputs": [
    {
     "data": {
      "image/png": "[encoded data removed]",
      "text/plain": [
       "<Figure size 792x504 with 1 Axes>"
      ]
     },
     "metadata": {
      "needs_background": "light"
     },
     "output_type": "display_data"
    }
   ],
   "source": [
    "database[database.Country == 'Netherlands'][['Rent prices, s.a.', 'Rent prices Predicted']].plot(alpha=0.5, ylim= (0,160), title= 'Accuracy Netherlands', figsize=(11,7));"
   ]
  },
  {
   "cell_type": "code",
   "execution_count": 50,
   "metadata": {
    "hideCode": false,
    "hidePrompt": false,
    "slideshow": {
     "slide_type": "skip"
    }
   },
   "outputs": [
    {
     "name": "stdout",
     "output_type": "stream",
     "text": [
      "                            OLS Regression Results                            \n",
      "==============================================================================\n",
      "Dep. Variable:      Rent prices, s.a.   R-squared:                       0.883\n",
      "Model:                            OLS   Adj. R-squared:                  0.834\n",
      "Method:                 Least Squares   F-statistic:                     17.95\n",
      "Date:                Tue, 05 Jan 2021   Prob (F-statistic):           4.67e-15\n",
      "Time:                        16:49:56   Log-Likelihood:                -145.96\n",
      "No. Observations:                  65   AIC:                             331.9\n",
      "Df Residuals:                      45   BIC:                             375.4\n",
      "Df Model:                          19                                         \n",
      "Covariance Type:            nonrobust                                         \n",
      "==========================================================================================================================================\n",
      "                                                                             coef    std err          t      P>|t|      [0.025      0.975]\n",
      "------------------------------------------------------------------------------------------------------------------------------------------\n",
      "const                                                                     48.5210     16.673      2.910      0.006      14.939      82.103\n",
      "Construction, s.a.                                                        -0.0340      0.167     -0.203      0.840      -0.371       0.303\n",
      "Exchange rates,  monthly averages, National currency per US dollar        28.4470     15.371      1.851      0.071      -2.511      59.405\n",
      "Exports in goods, s.a.                                                     0.0261      0.083      0.314      0.755      -0.142       0.194\n",
      "GDP Exports; constant prices, s.a.                                        -0.4364      0.335     -1.302      0.199      -1.111       0.238\n",
      "GDP Government consumption expenditure; constant prices, s.a.              0.6744      0.365      1.845      0.072      -0.062       1.411\n",
      "GDP Gross fixed capital formation; constant prices, s.a.                  -0.0281      0.114     -0.248      0.806      -0.257       0.201\n",
      "GDP Imports of goods and services; constant prices, s.a.                   0.1787      0.292      0.612      0.544      -0.409       0.767\n",
      "GDP Private final consumption expenditure; constant prices, s.a.           2.2405      0.611      3.666      0.001       1.010       3.471\n",
      "Gross domestic product; constant prices, s.a.                              2.5280      2.853      0.886      0.380      -3.218       8.274\n",
      "Imports in goods, s.a.                                                     0.1025      0.085      1.202      0.236      -0.069       0.274\n",
      "Long-term interest rate                                                   -0.6117      0.510     -1.199      0.237      -1.639       0.416\n",
      "Total employment: all persons, s.a.                                       -0.0083      0.003     -2.655      0.011      -0.015      -0.002\n",
      "Demography                                                              5.215e-07   5.53e-07      0.943      0.351   -5.93e-07    1.64e-06\n",
      "Long-term interest rates, Per cent per annum                              -0.6117      0.510     -1.199      0.237      -1.639       0.416\n",
      "Short-term interest rates, Per cent per annum                             -1.5338      0.572     -2.680      0.010      -2.686      -0.381\n",
      "Exports of goods and services, volume in USD (national accounts basis)     0.1025      0.057      1.785      0.081      -0.013       0.218\n",
      "Goods and services trade, volume in USD                                   -0.2050      0.115     -1.785      0.081      -0.436       0.026\n",
      "Gross domestic product, volume, growth                                    -3.4151      2.865     -1.192      0.240      -9.186       2.356\n",
      "Gross domestic product, volume, market prices                           3.083e-11   9.46e-12      3.259      0.002    1.18e-11    4.99e-11\n",
      "Imports of goods and services, volume in USD (national accounts basis)     0.1025      0.057      1.785      0.081      -0.013       0.218\n",
      "Unemployment rate                                                          1.4808      0.594      2.495      0.016       0.285       2.676\n",
      "==============================================================================\n",
      "Omnibus:                        1.364   Durbin-Watson:                   1.400\n",
      "Prob(Omnibus):                  0.506   Jarque-Bera (JB):                0.802\n",
      "Skew:                          -0.246   Prob(JB):                        0.670\n",
      "Kurtosis:                       3.232   Cond. No.                     1.53e+19\n",
      "==============================================================================\n",
      "\n",
      "Notes:\n",
      "[1] Standard Errors assume that the covariance matrix of the errors is correctly specified.\n",
      "[2] The smallest eigenvalue is 1.28e-12. This might indicate that there are\n",
      "strong multicollinearity problems or that the design matrix is singular.\n"
     ]
    }
   ],
   "source": [
    "from sklearn.linear_model import LinearRegression\n",
    "params = database.drop(['Country', 'Time','Real house price indices, s.a.', 'Rent prices, s.a.', 'Rent prices Predicted'], axis = 1).columns\n",
    "\n",
    "X = database[params]\n",
    "y = database['Rent prices, s.a.']\n",
    "\n",
    "\n",
    "from sklearn import datasets, linear_model\n",
    "from sklearn.linear_model import LinearRegression\n",
    "import statsmodels.api as sm\n",
    "from scipy import stats\n",
    "\n",
    "\n",
    "X2 = sm.add_constant(X)\n",
    "est = sm.OLS(y, X2)\n",
    "model2 = est.fit()\n",
    "print(model2.summary())"
   ]
  },
  {
   "cell_type": "code",
   "execution_count": 55,
   "metadata": {
    "slideshow": {
     "slide_type": "skip"
    }
   },
   "outputs": [],
   "source": [
    "features = ['constant','GDP Private final consumption expenditure','Short-term interest rates','Unemployment rate']\n",
    "coefficient = ['48.5', '2.2', '-1.5', '1,5']\n",
    "impact_features = { 'Features' : features,  'Coefficient': coefficient }\n",
    "\n",
    "\n"
   ]
  },
  {
   "cell_type": "markdown",
   "metadata": {
    "slideshow": {
     "slide_type": "slide"
    }
   },
   "source": [
    "## Features with significant impact:"
   ]
  },
  {
   "cell_type": "code",
   "execution_count": 57,
   "metadata": {
    "hideCode": true,
    "hidePrompt": true,
    "hide_input": true,
    "slideshow": {
     "slide_type": "fragment"
    }
   },
   "outputs": [
    {
     "data": {
      "text/html": [
       "<div>\n",
       "<style scoped>\n",
       "    .dataframe tbody tr th:only-of-type {\n",
       "        vertical-align: middle;\n",
       "    }\n",
       "\n",
       "    .dataframe tbody tr th {\n",
       "        vertical-align: top;\n",
       "    }\n",
       "\n",
       "    .dataframe thead th {\n",
       "        text-align: right;\n",
       "    }\n",
       "</style>\n",
       "<table border=\"1\" class=\"dataframe\">\n",
       "  <thead>\n",
       "    <tr style=\"text-align: right;\">\n",
       "      <th></th>\n",
       "      <th>Features</th>\n",
       "      <th>Coefficient</th>\n",
       "    </tr>\n",
       "  </thead>\n",
       "  <tbody>\n",
       "    <tr>\n",
       "      <th>0</th>\n",
       "      <td>constant</td>\n",
       "      <td>48.5</td>\n",
       "    </tr>\n",
       "    <tr>\n",
       "      <th>1</th>\n",
       "      <td>GDP Private final consumption expenditure</td>\n",
       "      <td>2.2</td>\n",
       "    </tr>\n",
       "    <tr>\n",
       "      <th>2</th>\n",
       "      <td>Short-term interest rates</td>\n",
       "      <td>-1.5</td>\n",
       "    </tr>\n",
       "    <tr>\n",
       "      <th>3</th>\n",
       "      <td>Unemployment rate</td>\n",
       "      <td>1,5</td>\n",
       "    </tr>\n",
       "  </tbody>\n",
       "</table>\n",
       "</div>"
      ],
      "text/plain": [
       "                                    Features Coefficient\n",
       "0                                   constant        48.5\n",
       "1  GDP Private final consumption expenditure         2.2\n",
       "2                  Short-term interest rates        -1.5\n",
       "3                          Unemployment rate         1,5"
      ]
     },
     "execution_count": 57,
     "metadata": {},
     "output_type": "execute_result"
    }
   ],
   "source": [
    "df = pd.DataFrame.from_dict(impact_features)\n",
    "df"
   ]
  },
  {
   "cell_type": "markdown",
   "metadata": {
    "hide_input": true,
    "slideshow": {
     "slide_type": "fragment"
    }
   },
   "source": [
    "$\\hat{Rental Price}  ≃  48.5. + 2.2 * GDP - 1.5 * INT + 1.5 * U.R$"
   ]
  },
  {
   "cell_type": "code",
   "execution_count": 52,
   "metadata": {
    "hideCode": false,
    "hidePrompt": false,
    "slideshow": {
     "slide_type": "skip"
    }
   },
   "outputs": [
    {
     "data": {
      "text/plain": [
       "0.7981472974942205"
      ]
     },
     "execution_count": 52,
     "metadata": {},
     "output_type": "execute_result"
    }
   ],
   "source": [
    "from sklearn.linear_model import Ridge\n",
    "#X_train, X_test, y_train, y_test = train_test_split(X, y, test_size = 0.3, random_state=42) \n",
    "ridge = Ridge(alpha=0.1, normalize=True) \n",
    "ridge.fit(X, y)\n",
    "ridge_pred = ridge.predict(X) \n",
    "ridge.score(X, y)"
   ]
  },
  {
   "cell_type": "code",
   "execution_count": 53,
   "metadata": {
    "hideCode": false,
    "hidePrompt": false,
    "slideshow": {
     "slide_type": "skip"
    }
   },
   "outputs": [
    {
     "data": {
      "text/plain": [
       "0.6929196814587946"
      ]
     },
     "execution_count": 53,
     "metadata": {},
     "output_type": "execute_result"
    }
   ],
   "source": [
    "from sklearn.linear_model import Lasso\n",
    "#X_train, X_test, y_train, y_test = train_test_split(X, y, test_size = 0.3, random_state=42) \n",
    "lasso = Lasso(alpha=0.1, normalize=True) \n",
    "lasso.fit(X, y)\n",
    "lasso_pred = lasso.predict(X) \n",
    "lasso.score(X, y)"
   ]
  }
 ],
 "metadata": {
  "celltoolbar": "Diaporama",
  "hide_code_all_hidden": false,
  "kernelspec": {
   "display_name": "Python 3",
   "language": "python",
   "name": "python3"
  },
  "language_info": {
   "codemirror_mode": {
    "name": "ipython",
    "version": 3
   },
   "file_extension": ".py",
   "mimetype": "text/x-python",
   "name": "python",
   "nbconvert_exporter": "python",
   "pygments_lexer": "ipython3",
   "version": "3.8.5"
  }
 },
 "nbformat": 4,
 "nbformat_minor": 4
}
